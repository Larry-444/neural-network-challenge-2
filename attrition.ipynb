{
  "cells": [
    {
      "cell_type": "markdown",
      "metadata": {
        "id": "alIIEHibGc3M"
      },
      "source": [
        "## Part 1: Preprocessing"
      ]
    },
    {
      "cell_type": "code",
      "execution_count": 124,
      "metadata": {
        "colab": {
          "base_uri": "https://localhost:8080/",
          "height": 325
        },
        "id": "6eDUJ4NtGc3P",
        "outputId": "790a1172-b70d-4c7b-fd9c-89aa369c23bb"
      },
      "outputs": [
        {
          "output_type": "execute_result",
          "data": {
            "text/plain": [
              "   Age Attrition     BusinessTravel              Department  DistanceFromHome  \\\n",
              "0   41       Yes      Travel_Rarely                   Sales                 1   \n",
              "1   49        No  Travel_Frequently  Research & Development                 8   \n",
              "2   37       Yes      Travel_Rarely  Research & Development                 2   \n",
              "3   33        No  Travel_Frequently  Research & Development                 3   \n",
              "4   27        No      Travel_Rarely  Research & Development                 2   \n",
              "\n",
              "   Education EducationField  EnvironmentSatisfaction  HourlyRate  \\\n",
              "0          2  Life Sciences                        2          94   \n",
              "1          1  Life Sciences                        3          61   \n",
              "2          2          Other                        4          92   \n",
              "3          4  Life Sciences                        4          56   \n",
              "4          1        Medical                        1          40   \n",
              "\n",
              "   JobInvolvement  ...  PerformanceRating RelationshipSatisfaction  \\\n",
              "0               3  ...                  3                        1   \n",
              "1               2  ...                  4                        4   \n",
              "2               2  ...                  3                        2   \n",
              "3               3  ...                  3                        3   \n",
              "4               3  ...                  3                        4   \n",
              "\n",
              "   StockOptionLevel TotalWorkingYears  TrainingTimesLastYear WorkLifeBalance  \\\n",
              "0                 0                 8                      0               1   \n",
              "1                 1                10                      3               3   \n",
              "2                 0                 7                      3               3   \n",
              "3                 0                 8                      3               3   \n",
              "4                 1                 6                      3               3   \n",
              "\n",
              "   YearsAtCompany  YearsInCurrentRole  YearsSinceLastPromotion  \\\n",
              "0               6                   4                        0   \n",
              "1              10                   7                        1   \n",
              "2               0                   0                        0   \n",
              "3               8                   7                        3   \n",
              "4               2                   2                        2   \n",
              "\n",
              "   YearsWithCurrManager  \n",
              "0                     5  \n",
              "1                     7  \n",
              "2                     0  \n",
              "3                     0  \n",
              "4                     2  \n",
              "\n",
              "[5 rows x 27 columns]"
            ],
            "text/html": [
              "\n",
              "  <div id=\"df-59561f2c-67cb-4974-9d2f-ffde738d7332\" class=\"colab-df-container\">\n",
              "    <div>\n",
              "<style scoped>\n",
              "    .dataframe tbody tr th:only-of-type {\n",
              "        vertical-align: middle;\n",
              "    }\n",
              "\n",
              "    .dataframe tbody tr th {\n",
              "        vertical-align: top;\n",
              "    }\n",
              "\n",
              "    .dataframe thead th {\n",
              "        text-align: right;\n",
              "    }\n",
              "</style>\n",
              "<table border=\"1\" class=\"dataframe\">\n",
              "  <thead>\n",
              "    <tr style=\"text-align: right;\">\n",
              "      <th></th>\n",
              "      <th>Age</th>\n",
              "      <th>Attrition</th>\n",
              "      <th>BusinessTravel</th>\n",
              "      <th>Department</th>\n",
              "      <th>DistanceFromHome</th>\n",
              "      <th>Education</th>\n",
              "      <th>EducationField</th>\n",
              "      <th>EnvironmentSatisfaction</th>\n",
              "      <th>HourlyRate</th>\n",
              "      <th>JobInvolvement</th>\n",
              "      <th>...</th>\n",
              "      <th>PerformanceRating</th>\n",
              "      <th>RelationshipSatisfaction</th>\n",
              "      <th>StockOptionLevel</th>\n",
              "      <th>TotalWorkingYears</th>\n",
              "      <th>TrainingTimesLastYear</th>\n",
              "      <th>WorkLifeBalance</th>\n",
              "      <th>YearsAtCompany</th>\n",
              "      <th>YearsInCurrentRole</th>\n",
              "      <th>YearsSinceLastPromotion</th>\n",
              "      <th>YearsWithCurrManager</th>\n",
              "    </tr>\n",
              "  </thead>\n",
              "  <tbody>\n",
              "    <tr>\n",
              "      <th>0</th>\n",
              "      <td>41</td>\n",
              "      <td>Yes</td>\n",
              "      <td>Travel_Rarely</td>\n",
              "      <td>Sales</td>\n",
              "      <td>1</td>\n",
              "      <td>2</td>\n",
              "      <td>Life Sciences</td>\n",
              "      <td>2</td>\n",
              "      <td>94</td>\n",
              "      <td>3</td>\n",
              "      <td>...</td>\n",
              "      <td>3</td>\n",
              "      <td>1</td>\n",
              "      <td>0</td>\n",
              "      <td>8</td>\n",
              "      <td>0</td>\n",
              "      <td>1</td>\n",
              "      <td>6</td>\n",
              "      <td>4</td>\n",
              "      <td>0</td>\n",
              "      <td>5</td>\n",
              "    </tr>\n",
              "    <tr>\n",
              "      <th>1</th>\n",
              "      <td>49</td>\n",
              "      <td>No</td>\n",
              "      <td>Travel_Frequently</td>\n",
              "      <td>Research &amp; Development</td>\n",
              "      <td>8</td>\n",
              "      <td>1</td>\n",
              "      <td>Life Sciences</td>\n",
              "      <td>3</td>\n",
              "      <td>61</td>\n",
              "      <td>2</td>\n",
              "      <td>...</td>\n",
              "      <td>4</td>\n",
              "      <td>4</td>\n",
              "      <td>1</td>\n",
              "      <td>10</td>\n",
              "      <td>3</td>\n",
              "      <td>3</td>\n",
              "      <td>10</td>\n",
              "      <td>7</td>\n",
              "      <td>1</td>\n",
              "      <td>7</td>\n",
              "    </tr>\n",
              "    <tr>\n",
              "      <th>2</th>\n",
              "      <td>37</td>\n",
              "      <td>Yes</td>\n",
              "      <td>Travel_Rarely</td>\n",
              "      <td>Research &amp; Development</td>\n",
              "      <td>2</td>\n",
              "      <td>2</td>\n",
              "      <td>Other</td>\n",
              "      <td>4</td>\n",
              "      <td>92</td>\n",
              "      <td>2</td>\n",
              "      <td>...</td>\n",
              "      <td>3</td>\n",
              "      <td>2</td>\n",
              "      <td>0</td>\n",
              "      <td>7</td>\n",
              "      <td>3</td>\n",
              "      <td>3</td>\n",
              "      <td>0</td>\n",
              "      <td>0</td>\n",
              "      <td>0</td>\n",
              "      <td>0</td>\n",
              "    </tr>\n",
              "    <tr>\n",
              "      <th>3</th>\n",
              "      <td>33</td>\n",
              "      <td>No</td>\n",
              "      <td>Travel_Frequently</td>\n",
              "      <td>Research &amp; Development</td>\n",
              "      <td>3</td>\n",
              "      <td>4</td>\n",
              "      <td>Life Sciences</td>\n",
              "      <td>4</td>\n",
              "      <td>56</td>\n",
              "      <td>3</td>\n",
              "      <td>...</td>\n",
              "      <td>3</td>\n",
              "      <td>3</td>\n",
              "      <td>0</td>\n",
              "      <td>8</td>\n",
              "      <td>3</td>\n",
              "      <td>3</td>\n",
              "      <td>8</td>\n",
              "      <td>7</td>\n",
              "      <td>3</td>\n",
              "      <td>0</td>\n",
              "    </tr>\n",
              "    <tr>\n",
              "      <th>4</th>\n",
              "      <td>27</td>\n",
              "      <td>No</td>\n",
              "      <td>Travel_Rarely</td>\n",
              "      <td>Research &amp; Development</td>\n",
              "      <td>2</td>\n",
              "      <td>1</td>\n",
              "      <td>Medical</td>\n",
              "      <td>1</td>\n",
              "      <td>40</td>\n",
              "      <td>3</td>\n",
              "      <td>...</td>\n",
              "      <td>3</td>\n",
              "      <td>4</td>\n",
              "      <td>1</td>\n",
              "      <td>6</td>\n",
              "      <td>3</td>\n",
              "      <td>3</td>\n",
              "      <td>2</td>\n",
              "      <td>2</td>\n",
              "      <td>2</td>\n",
              "      <td>2</td>\n",
              "    </tr>\n",
              "  </tbody>\n",
              "</table>\n",
              "<p>5 rows × 27 columns</p>\n",
              "</div>\n",
              "    <div class=\"colab-df-buttons\">\n",
              "\n",
              "  <div class=\"colab-df-container\">\n",
              "    <button class=\"colab-df-convert\" onclick=\"convertToInteractive('df-59561f2c-67cb-4974-9d2f-ffde738d7332')\"\n",
              "            title=\"Convert this dataframe to an interactive table.\"\n",
              "            style=\"display:none;\">\n",
              "\n",
              "  <svg xmlns=\"http://www.w3.org/2000/svg\" height=\"24px\" viewBox=\"0 -960 960 960\">\n",
              "    <path d=\"M120-120v-720h720v720H120Zm60-500h600v-160H180v160Zm220 220h160v-160H400v160Zm0 220h160v-160H400v160ZM180-400h160v-160H180v160Zm440 0h160v-160H620v160ZM180-180h160v-160H180v160Zm440 0h160v-160H620v160Z\"/>\n",
              "  </svg>\n",
              "    </button>\n",
              "\n",
              "  <style>\n",
              "    .colab-df-container {\n",
              "      display:flex;\n",
              "      gap: 12px;\n",
              "    }\n",
              "\n",
              "    .colab-df-convert {\n",
              "      background-color: #E8F0FE;\n",
              "      border: none;\n",
              "      border-radius: 50%;\n",
              "      cursor: pointer;\n",
              "      display: none;\n",
              "      fill: #1967D2;\n",
              "      height: 32px;\n",
              "      padding: 0 0 0 0;\n",
              "      width: 32px;\n",
              "    }\n",
              "\n",
              "    .colab-df-convert:hover {\n",
              "      background-color: #E2EBFA;\n",
              "      box-shadow: 0px 1px 2px rgba(60, 64, 67, 0.3), 0px 1px 3px 1px rgba(60, 64, 67, 0.15);\n",
              "      fill: #174EA6;\n",
              "    }\n",
              "\n",
              "    .colab-df-buttons div {\n",
              "      margin-bottom: 4px;\n",
              "    }\n",
              "\n",
              "    [theme=dark] .colab-df-convert {\n",
              "      background-color: #3B4455;\n",
              "      fill: #D2E3FC;\n",
              "    }\n",
              "\n",
              "    [theme=dark] .colab-df-convert:hover {\n",
              "      background-color: #434B5C;\n",
              "      box-shadow: 0px 1px 3px 1px rgba(0, 0, 0, 0.15);\n",
              "      filter: drop-shadow(0px 1px 2px rgba(0, 0, 0, 0.3));\n",
              "      fill: #FFFFFF;\n",
              "    }\n",
              "  </style>\n",
              "\n",
              "    <script>\n",
              "      const buttonEl =\n",
              "        document.querySelector('#df-59561f2c-67cb-4974-9d2f-ffde738d7332 button.colab-df-convert');\n",
              "      buttonEl.style.display =\n",
              "        google.colab.kernel.accessAllowed ? 'block' : 'none';\n",
              "\n",
              "      async function convertToInteractive(key) {\n",
              "        const element = document.querySelector('#df-59561f2c-67cb-4974-9d2f-ffde738d7332');\n",
              "        const dataTable =\n",
              "          await google.colab.kernel.invokeFunction('convertToInteractive',\n",
              "                                                    [key], {});\n",
              "        if (!dataTable) return;\n",
              "\n",
              "        const docLinkHtml = 'Like what you see? Visit the ' +\n",
              "          '<a target=\"_blank\" href=https://colab.research.google.com/notebooks/data_table.ipynb>data table notebook</a>'\n",
              "          + ' to learn more about interactive tables.';\n",
              "        element.innerHTML = '';\n",
              "        dataTable['output_type'] = 'display_data';\n",
              "        await google.colab.output.renderOutput(dataTable, element);\n",
              "        const docLink = document.createElement('div');\n",
              "        docLink.innerHTML = docLinkHtml;\n",
              "        element.appendChild(docLink);\n",
              "      }\n",
              "    </script>\n",
              "  </div>\n",
              "\n",
              "\n",
              "<div id=\"df-5fc7e15e-0d2e-42d1-b433-071cdff2fdf4\">\n",
              "  <button class=\"colab-df-quickchart\" onclick=\"quickchart('df-5fc7e15e-0d2e-42d1-b433-071cdff2fdf4')\"\n",
              "            title=\"Suggest charts\"\n",
              "            style=\"display:none;\">\n",
              "\n",
              "<svg xmlns=\"http://www.w3.org/2000/svg\" height=\"24px\"viewBox=\"0 0 24 24\"\n",
              "     width=\"24px\">\n",
              "    <g>\n",
              "        <path d=\"M19 3H5c-1.1 0-2 .9-2 2v14c0 1.1.9 2 2 2h14c1.1 0 2-.9 2-2V5c0-1.1-.9-2-2-2zM9 17H7v-7h2v7zm4 0h-2V7h2v10zm4 0h-2v-4h2v4z\"/>\n",
              "    </g>\n",
              "</svg>\n",
              "  </button>\n",
              "\n",
              "<style>\n",
              "  .colab-df-quickchart {\n",
              "      --bg-color: #E8F0FE;\n",
              "      --fill-color: #1967D2;\n",
              "      --hover-bg-color: #E2EBFA;\n",
              "      --hover-fill-color: #174EA6;\n",
              "      --disabled-fill-color: #AAA;\n",
              "      --disabled-bg-color: #DDD;\n",
              "  }\n",
              "\n",
              "  [theme=dark] .colab-df-quickchart {\n",
              "      --bg-color: #3B4455;\n",
              "      --fill-color: #D2E3FC;\n",
              "      --hover-bg-color: #434B5C;\n",
              "      --hover-fill-color: #FFFFFF;\n",
              "      --disabled-bg-color: #3B4455;\n",
              "      --disabled-fill-color: #666;\n",
              "  }\n",
              "\n",
              "  .colab-df-quickchart {\n",
              "    background-color: var(--bg-color);\n",
              "    border: none;\n",
              "    border-radius: 50%;\n",
              "    cursor: pointer;\n",
              "    display: none;\n",
              "    fill: var(--fill-color);\n",
              "    height: 32px;\n",
              "    padding: 0;\n",
              "    width: 32px;\n",
              "  }\n",
              "\n",
              "  .colab-df-quickchart:hover {\n",
              "    background-color: var(--hover-bg-color);\n",
              "    box-shadow: 0 1px 2px rgba(60, 64, 67, 0.3), 0 1px 3px 1px rgba(60, 64, 67, 0.15);\n",
              "    fill: var(--button-hover-fill-color);\n",
              "  }\n",
              "\n",
              "  .colab-df-quickchart-complete:disabled,\n",
              "  .colab-df-quickchart-complete:disabled:hover {\n",
              "    background-color: var(--disabled-bg-color);\n",
              "    fill: var(--disabled-fill-color);\n",
              "    box-shadow: none;\n",
              "  }\n",
              "\n",
              "  .colab-df-spinner {\n",
              "    border: 2px solid var(--fill-color);\n",
              "    border-color: transparent;\n",
              "    border-bottom-color: var(--fill-color);\n",
              "    animation:\n",
              "      spin 1s steps(1) infinite;\n",
              "  }\n",
              "\n",
              "  @keyframes spin {\n",
              "    0% {\n",
              "      border-color: transparent;\n",
              "      border-bottom-color: var(--fill-color);\n",
              "      border-left-color: var(--fill-color);\n",
              "    }\n",
              "    20% {\n",
              "      border-color: transparent;\n",
              "      border-left-color: var(--fill-color);\n",
              "      border-top-color: var(--fill-color);\n",
              "    }\n",
              "    30% {\n",
              "      border-color: transparent;\n",
              "      border-left-color: var(--fill-color);\n",
              "      border-top-color: var(--fill-color);\n",
              "      border-right-color: var(--fill-color);\n",
              "    }\n",
              "    40% {\n",
              "      border-color: transparent;\n",
              "      border-right-color: var(--fill-color);\n",
              "      border-top-color: var(--fill-color);\n",
              "    }\n",
              "    60% {\n",
              "      border-color: transparent;\n",
              "      border-right-color: var(--fill-color);\n",
              "    }\n",
              "    80% {\n",
              "      border-color: transparent;\n",
              "      border-right-color: var(--fill-color);\n",
              "      border-bottom-color: var(--fill-color);\n",
              "    }\n",
              "    90% {\n",
              "      border-color: transparent;\n",
              "      border-bottom-color: var(--fill-color);\n",
              "    }\n",
              "  }\n",
              "</style>\n",
              "\n",
              "  <script>\n",
              "    async function quickchart(key) {\n",
              "      const quickchartButtonEl =\n",
              "        document.querySelector('#' + key + ' button');\n",
              "      quickchartButtonEl.disabled = true;  // To prevent multiple clicks.\n",
              "      quickchartButtonEl.classList.add('colab-df-spinner');\n",
              "      try {\n",
              "        const charts = await google.colab.kernel.invokeFunction(\n",
              "            'suggestCharts', [key], {});\n",
              "      } catch (error) {\n",
              "        console.error('Error during call to suggestCharts:', error);\n",
              "      }\n",
              "      quickchartButtonEl.classList.remove('colab-df-spinner');\n",
              "      quickchartButtonEl.classList.add('colab-df-quickchart-complete');\n",
              "    }\n",
              "    (() => {\n",
              "      let quickchartButtonEl =\n",
              "        document.querySelector('#df-5fc7e15e-0d2e-42d1-b433-071cdff2fdf4 button');\n",
              "      quickchartButtonEl.style.display =\n",
              "        google.colab.kernel.accessAllowed ? 'block' : 'none';\n",
              "    })();\n",
              "  </script>\n",
              "</div>\n",
              "\n",
              "    </div>\n",
              "  </div>\n"
            ],
            "application/vnd.google.colaboratory.intrinsic+json": {
              "type": "dataframe",
              "variable_name": "attrition_df"
            }
          },
          "metadata": {},
          "execution_count": 124
        }
      ],
      "source": [
        "# Import our dependencies\n",
        "from sklearn.model_selection import train_test_split\n",
        "from sklearn.preprocessing import StandardScaler\n",
        "import pandas as pd\n",
        "import numpy as np\n",
        "from tensorflow.keras.models import Model\n",
        "from tensorflow.keras.optimizers import Adam\n",
        "from tensorflow.keras import layers\n",
        "\n",
        "#  Import and read the attrition data\n",
        "attrition_df = pd.read_csv('https://static.bc-edx.com/ai/ail-v-1-0/m19/lms/datasets/attrition.csv')\n",
        "attrition_df.head()"
      ]
    },
    {
      "cell_type": "code",
      "execution_count": 125,
      "metadata": {
        "colab": {
          "base_uri": "https://localhost:8080/",
          "height": 931
        },
        "id": "g22aQSY4Gc3Q",
        "outputId": "87c5d40a-9a28-404d-e86a-fe2679c5dce3"
      },
      "outputs": [
        {
          "output_type": "execute_result",
          "data": {
            "text/plain": [
              "Age                         43\n",
              "Attrition                    2\n",
              "BusinessTravel               3\n",
              "Department                   3\n",
              "DistanceFromHome            29\n",
              "Education                    5\n",
              "EducationField               6\n",
              "EnvironmentSatisfaction      4\n",
              "HourlyRate                  71\n",
              "JobInvolvement               4\n",
              "JobLevel                     5\n",
              "JobRole                      9\n",
              "JobSatisfaction              4\n",
              "MaritalStatus                3\n",
              "NumCompaniesWorked          10\n",
              "OverTime                     2\n",
              "PercentSalaryHike           15\n",
              "PerformanceRating            2\n",
              "RelationshipSatisfaction     4\n",
              "StockOptionLevel             4\n",
              "TotalWorkingYears           40\n",
              "TrainingTimesLastYear        7\n",
              "WorkLifeBalance              4\n",
              "YearsAtCompany              37\n",
              "YearsInCurrentRole          19\n",
              "YearsSinceLastPromotion     16\n",
              "YearsWithCurrManager        18\n",
              "dtype: int64"
            ],
            "text/html": [
              "<div>\n",
              "<style scoped>\n",
              "    .dataframe tbody tr th:only-of-type {\n",
              "        vertical-align: middle;\n",
              "    }\n",
              "\n",
              "    .dataframe tbody tr th {\n",
              "        vertical-align: top;\n",
              "    }\n",
              "\n",
              "    .dataframe thead th {\n",
              "        text-align: right;\n",
              "    }\n",
              "</style>\n",
              "<table border=\"1\" class=\"dataframe\">\n",
              "  <thead>\n",
              "    <tr style=\"text-align: right;\">\n",
              "      <th></th>\n",
              "      <th>0</th>\n",
              "    </tr>\n",
              "  </thead>\n",
              "  <tbody>\n",
              "    <tr>\n",
              "      <th>Age</th>\n",
              "      <td>43</td>\n",
              "    </tr>\n",
              "    <tr>\n",
              "      <th>Attrition</th>\n",
              "      <td>2</td>\n",
              "    </tr>\n",
              "    <tr>\n",
              "      <th>BusinessTravel</th>\n",
              "      <td>3</td>\n",
              "    </tr>\n",
              "    <tr>\n",
              "      <th>Department</th>\n",
              "      <td>3</td>\n",
              "    </tr>\n",
              "    <tr>\n",
              "      <th>DistanceFromHome</th>\n",
              "      <td>29</td>\n",
              "    </tr>\n",
              "    <tr>\n",
              "      <th>Education</th>\n",
              "      <td>5</td>\n",
              "    </tr>\n",
              "    <tr>\n",
              "      <th>EducationField</th>\n",
              "      <td>6</td>\n",
              "    </tr>\n",
              "    <tr>\n",
              "      <th>EnvironmentSatisfaction</th>\n",
              "      <td>4</td>\n",
              "    </tr>\n",
              "    <tr>\n",
              "      <th>HourlyRate</th>\n",
              "      <td>71</td>\n",
              "    </tr>\n",
              "    <tr>\n",
              "      <th>JobInvolvement</th>\n",
              "      <td>4</td>\n",
              "    </tr>\n",
              "    <tr>\n",
              "      <th>JobLevel</th>\n",
              "      <td>5</td>\n",
              "    </tr>\n",
              "    <tr>\n",
              "      <th>JobRole</th>\n",
              "      <td>9</td>\n",
              "    </tr>\n",
              "    <tr>\n",
              "      <th>JobSatisfaction</th>\n",
              "      <td>4</td>\n",
              "    </tr>\n",
              "    <tr>\n",
              "      <th>MaritalStatus</th>\n",
              "      <td>3</td>\n",
              "    </tr>\n",
              "    <tr>\n",
              "      <th>NumCompaniesWorked</th>\n",
              "      <td>10</td>\n",
              "    </tr>\n",
              "    <tr>\n",
              "      <th>OverTime</th>\n",
              "      <td>2</td>\n",
              "    </tr>\n",
              "    <tr>\n",
              "      <th>PercentSalaryHike</th>\n",
              "      <td>15</td>\n",
              "    </tr>\n",
              "    <tr>\n",
              "      <th>PerformanceRating</th>\n",
              "      <td>2</td>\n",
              "    </tr>\n",
              "    <tr>\n",
              "      <th>RelationshipSatisfaction</th>\n",
              "      <td>4</td>\n",
              "    </tr>\n",
              "    <tr>\n",
              "      <th>StockOptionLevel</th>\n",
              "      <td>4</td>\n",
              "    </tr>\n",
              "    <tr>\n",
              "      <th>TotalWorkingYears</th>\n",
              "      <td>40</td>\n",
              "    </tr>\n",
              "    <tr>\n",
              "      <th>TrainingTimesLastYear</th>\n",
              "      <td>7</td>\n",
              "    </tr>\n",
              "    <tr>\n",
              "      <th>WorkLifeBalance</th>\n",
              "      <td>4</td>\n",
              "    </tr>\n",
              "    <tr>\n",
              "      <th>YearsAtCompany</th>\n",
              "      <td>37</td>\n",
              "    </tr>\n",
              "    <tr>\n",
              "      <th>YearsInCurrentRole</th>\n",
              "      <td>19</td>\n",
              "    </tr>\n",
              "    <tr>\n",
              "      <th>YearsSinceLastPromotion</th>\n",
              "      <td>16</td>\n",
              "    </tr>\n",
              "    <tr>\n",
              "      <th>YearsWithCurrManager</th>\n",
              "      <td>18</td>\n",
              "    </tr>\n",
              "  </tbody>\n",
              "</table>\n",
              "</div><br><label><b>dtype:</b> int64</label>"
            ]
          },
          "metadata": {},
          "execution_count": 125
        }
      ],
      "source": [
        "# Determine the number of unique values in each column\n",
        "attrition_df.nunique()"
      ]
    },
    {
      "cell_type": "code",
      "execution_count": 126,
      "metadata": {
        "id": "50vMgBEnJbfM"
      },
      "outputs": [],
      "source": [
        "# Create y_df with the Attrition and Department columns\n",
        "y_df = attrition_df[['Attrition', 'Department']]"
      ]
    },
    {
      "cell_type": "code",
      "execution_count": 127,
      "metadata": {
        "colab": {
          "base_uri": "https://localhost:8080/",
          "height": 398
        },
        "id": "Virka0zLGc3R",
        "outputId": "eb81cda0-1db6-489f-a8a7-a84520d8f0c1"
      },
      "outputs": [
        {
          "output_type": "execute_result",
          "data": {
            "text/plain": [
              "Education                   int64\n",
              "Age                         int64\n",
              "DistanceFromHome            int64\n",
              "JobSatisfaction             int64\n",
              "OverTime                   object\n",
              "StockOptionLevel            int64\n",
              "WorkLifeBalance             int64\n",
              "YearsAtCompany              int64\n",
              "YearsSinceLastPromotion     int64\n",
              "NumCompaniesWorked          int64\n",
              "dtype: object"
            ],
            "text/html": [
              "<div>\n",
              "<style scoped>\n",
              "    .dataframe tbody tr th:only-of-type {\n",
              "        vertical-align: middle;\n",
              "    }\n",
              "\n",
              "    .dataframe tbody tr th {\n",
              "        vertical-align: top;\n",
              "    }\n",
              "\n",
              "    .dataframe thead th {\n",
              "        text-align: right;\n",
              "    }\n",
              "</style>\n",
              "<table border=\"1\" class=\"dataframe\">\n",
              "  <thead>\n",
              "    <tr style=\"text-align: right;\">\n",
              "      <th></th>\n",
              "      <th>0</th>\n",
              "    </tr>\n",
              "  </thead>\n",
              "  <tbody>\n",
              "    <tr>\n",
              "      <th>Education</th>\n",
              "      <td>int64</td>\n",
              "    </tr>\n",
              "    <tr>\n",
              "      <th>Age</th>\n",
              "      <td>int64</td>\n",
              "    </tr>\n",
              "    <tr>\n",
              "      <th>DistanceFromHome</th>\n",
              "      <td>int64</td>\n",
              "    </tr>\n",
              "    <tr>\n",
              "      <th>JobSatisfaction</th>\n",
              "      <td>int64</td>\n",
              "    </tr>\n",
              "    <tr>\n",
              "      <th>OverTime</th>\n",
              "      <td>object</td>\n",
              "    </tr>\n",
              "    <tr>\n",
              "      <th>StockOptionLevel</th>\n",
              "      <td>int64</td>\n",
              "    </tr>\n",
              "    <tr>\n",
              "      <th>WorkLifeBalance</th>\n",
              "      <td>int64</td>\n",
              "    </tr>\n",
              "    <tr>\n",
              "      <th>YearsAtCompany</th>\n",
              "      <td>int64</td>\n",
              "    </tr>\n",
              "    <tr>\n",
              "      <th>YearsSinceLastPromotion</th>\n",
              "      <td>int64</td>\n",
              "    </tr>\n",
              "    <tr>\n",
              "      <th>NumCompaniesWorked</th>\n",
              "      <td>int64</td>\n",
              "    </tr>\n",
              "  </tbody>\n",
              "</table>\n",
              "</div><br><label><b>dtype:</b> object</label>"
            ]
          },
          "metadata": {},
          "execution_count": 127
        }
      ],
      "source": [
        "# Create a list of at least 10 column names to use as X data\n",
        "selected_columns = [\n",
        "    \"Education\", \"Age\", \"DistanceFromHome\", \"JobSatisfaction\", \"OverTime\",\n",
        "    \"StockOptionLevel\", \"WorkLifeBalance\", \"YearsAtCompany\", \"YearsSinceLastPromotion\", \"NumCompaniesWorked\"\n",
        "]\n",
        "\n",
        "# Create X_df using the selected columns\n",
        "X_df = attrition_df[selected_columns]\n",
        "\n",
        "# Show the data types for X_df\n",
        "X_df.dtypes"
      ]
    },
    {
      "cell_type": "code",
      "execution_count": 128,
      "metadata": {
        "id": "KaJfdOGUMHMR"
      },
      "outputs": [],
      "source": [
        "# Split the data into training and testing sets\n",
        "from sklearn.model_selection import train_test_split\n",
        "\n",
        "X_train, X_test, y_train, y_test = train_test_split(X_df, y_df)\n"
      ]
    },
    {
      "cell_type": "code",
      "execution_count": 129,
      "metadata": {
        "id": "NYubUJqiLCSp"
      },
      "outputs": [],
      "source": [
        "# Convert your X data to numeric data types however you see fit\n",
        "# Add new code cells as necessary\n",
        "X_train_encoded = pd.get_dummies(X_train, columns=[\"OverTime\"], drop_first=True)\n",
        "X_test_encoded = pd.get_dummies(X_test, columns=[\"OverTime\"], drop_first=True)"
      ]
    },
    {
      "cell_type": "code",
      "source": [
        "overtime_counts_encoded = X_train[\"OverTime\"].value_counts()\n",
        "overtime_counts_encoded.columns = [\"OverTime\", \"Count\"]\n",
        "print(overtime_counts_encoded)"
      ],
      "metadata": {
        "colab": {
          "base_uri": "https://localhost:8080/"
        },
        "id": "3AL-rSzKJwWb",
        "outputId": "f8ba43be-4d66-43e5-daf1-a04c3d122939"
      },
      "execution_count": 130,
      "outputs": [
        {
          "output_type": "stream",
          "name": "stdout",
          "text": [
            "OverTime\n",
            "No     797\n",
            "Yes    305\n",
            "Name: count, dtype: int64\n"
          ]
        }
      ]
    },
    {
      "cell_type": "markdown",
      "source": [
        "![image.png](data:image/png;base64,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)"
      ],
      "metadata": {
        "id": "2tqFafz-KAsT"
      }
    },
    {
      "cell_type": "code",
      "execution_count": 131,
      "metadata": {
        "id": "EWA-aIA5Gc3T"
      },
      "outputs": [],
      "source": [
        "# Create a StandardScaler\n",
        "scaler = StandardScaler()\n",
        "\n",
        "# Fit the StandardScaler to the training data\n",
        "scaler.fit(X_train_encoded)\n",
        "\n",
        "# Scale the training and testing data\n",
        "X_train_scaled = scaler.transform(X_train_encoded)\n",
        "X_test_scaled = scaler.transform(X_test_encoded)"
      ]
    },
    {
      "cell_type": "code",
      "execution_count": 132,
      "metadata": {
        "colab": {
          "base_uri": "https://localhost:8080/"
        },
        "id": "-z0Mky8vQSz4",
        "outputId": "5157aa18-2ddb-4ca9-d931-70a001326482"
      },
      "outputs": [
        {
          "output_type": "execute_result",
          "data": {
            "text/plain": [
              "array([[0., 1., 0.],\n",
              "       [0., 1., 0.],\n",
              "       [0., 1., 0.],\n",
              "       ...,\n",
              "       [0., 0., 1.],\n",
              "       [0., 0., 1.],\n",
              "       [0., 1., 0.]])"
            ]
          },
          "metadata": {},
          "execution_count": 132
        }
      ],
      "source": [
        "from sklearn.preprocessing import OneHotEncoder\n",
        "\n",
        "# Create a OneHotEncoder for the Department column\n",
        "encoder = OneHotEncoder(sparse_output=False, handle_unknown=\"ignore\")\n",
        "\n",
        "# Fit the encoder to the training data\n",
        "encoder.fit(y_train[[\"Department\"]])\n",
        "\n",
        "# Create two new variables by applying the encoder\n",
        "# to the training and testing data\n",
        "y_train_encoded = encoder.transform(y_train[[\"Department\"]])\n",
        "y_test_encoded = encoder.transform(y_test[[\"Department\"]])\n",
        "\n",
        "y_train_encoded"
      ]
    },
    {
      "cell_type": "markdown",
      "source": [
        "![image.png](data:image/png;base64,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)"
      ],
      "metadata": {
        "id": "94ZY4XURMdYl"
      }
    },
    {
      "cell_type": "code",
      "execution_count": 133,
      "metadata": {
        "colab": {
          "base_uri": "https://localhost:8080/"
        },
        "id": "-G4DSpvFRrk4",
        "outputId": "dc071d7a-b4dc-4c5e-da6c-8ea4ecb0e64f"
      },
      "outputs": [
        {
          "output_type": "execute_result",
          "data": {
            "text/plain": [
              "array([[1., 0.],\n",
              "       [1., 0.],\n",
              "       [1., 0.],\n",
              "       ...,\n",
              "       [1., 0.],\n",
              "       [1., 0.],\n",
              "       [1., 0.]])"
            ]
          },
          "metadata": {},
          "execution_count": 133
        }
      ],
      "source": [
        "# Create a OneHotEncoder for the Attrition column\n",
        "att_encoder = OneHotEncoder(sparse_output=False, handle_unknown=\"ignore\")\n",
        "\n",
        "# Fit the encoder to the training data\n",
        "att_encoder.fit(y_train[[\"Attrition\"]])\n",
        "\n",
        "# Create two new variables by applying the encoder\n",
        "# to the training and testing data\n",
        "y_train_att_encoded = att_encoder.transform(y_train[[\"Attrition\"]])\n",
        "y_test_att_encoded = att_encoder.transform(y_test[[\"Attrition\"]])\n",
        "\n",
        "y_train_att_encoded"
      ]
    },
    {
      "cell_type": "markdown",
      "source": [
        "![image.png](data:image/png;base64,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)"
      ],
      "metadata": {
        "id": "ZBxG71uMN_A8"
      }
    },
    {
      "cell_type": "markdown",
      "metadata": {
        "id": "ykNmu_WWGc3T"
      },
      "source": [
        "## Part 2: Create, Compile, and Train the Model"
      ]
    },
    {
      "cell_type": "code",
      "execution_count": 134,
      "metadata": {
        "id": "WUptZqmSGc3T"
      },
      "outputs": [],
      "source": [
        "# Find the number of columns in the X training data.\n",
        "input_dim = X_train_encoded.shape[1]\n",
        "\n",
        "# Create the input layer\n",
        "input_layer = layers.Input(shape=(input_dim,))\n",
        "\n",
        "# Create at least two shared layers\n",
        "shared_layer1 = layers.Dense(64, activation=\"relu\")(input_layer)\n",
        "shared_layer2 = layers.Dense(128, activation=\"relu\")(shared_layer1)"
      ]
    },
    {
      "cell_type": "code",
      "execution_count": 135,
      "metadata": {
        "id": "JukjTm2yTEqd"
      },
      "outputs": [],
      "source": [
        "# Create a branch for Department\n",
        "# with a hidden layer and an output layer\n",
        "\n",
        "# Create the hidden layer\n",
        "department_hidden = layers.Dense(32, activation=\"relu\")(shared_layer2)\n",
        "\n",
        "# Create the output layer\n",
        "department_output = layers.Dense(y_train_encoded.shape[1], activation=\"softmax\", name=\"department_output\")(department_hidden)"
      ]
    },
    {
      "cell_type": "code",
      "execution_count": 136,
      "metadata": {
        "id": "9OqhUiOJUBkR"
      },
      "outputs": [],
      "source": [
        "# Create a branch for Attrition\n",
        "# with a hidden layer and an output layer\n",
        "\n",
        "# Create the hidden layer\n",
        "att_hidden = layers.Dense(32, activation=\"relu\")(shared_layer2)\n",
        "\n",
        "# Create the output layer\n",
        "att_output = layers.Dense(y_train_att_encoded.shape[1], activation=\"softmax\", name=\"attrition_output\")(att_hidden)"
      ]
    },
    {
      "cell_type": "code",
      "execution_count": 137,
      "metadata": {
        "colab": {
          "base_uri": "https://localhost:8080/",
          "height": 391
        },
        "id": "twmuejdxGc3T",
        "outputId": "28c43bdf-e7f6-4999-ba1f-d1406b27afb4"
      },
      "outputs": [
        {
          "output_type": "display_data",
          "data": {
            "text/plain": [
              "\u001b[1mModel: \"functional_10\"\u001b[0m\n"
            ],
            "text/html": [
              "<pre style=\"white-space:pre;overflow-x:auto;line-height:normal;font-family:Menlo,'DejaVu Sans Mono',consolas,'Courier New',monospace\"><span style=\"font-weight: bold\">Model: \"functional_10\"</span>\n",
              "</pre>\n"
            ]
          },
          "metadata": {}
        },
        {
          "output_type": "display_data",
          "data": {
            "text/plain": [
              "┏━━━━━━━━━━━━━━━━━━━━━━━━━━━┳━━━━━━━━━━━━━━━━━━━━━━━━┳━━━━━━━━━━━━━━━━┳━━━━━━━━━━━━━━━━━━━━━━━━┓\n",
              "┃\u001b[1m \u001b[0m\u001b[1mLayer (type)             \u001b[0m\u001b[1m \u001b[0m┃\u001b[1m \u001b[0m\u001b[1mOutput Shape          \u001b[0m\u001b[1m \u001b[0m┃\u001b[1m \u001b[0m\u001b[1m       Param #\u001b[0m\u001b[1m \u001b[0m┃\u001b[1m \u001b[0m\u001b[1mConnected to          \u001b[0m\u001b[1m \u001b[0m┃\n",
              "┡━━━━━━━━━━━━━━━━━━━━━━━━━━━╇━━━━━━━━━━━━━━━━━━━━━━━━╇━━━━━━━━━━━━━━━━╇━━━━━━━━━━━━━━━━━━━━━━━━┩\n",
              "│ input_layer_5             │ (\u001b[38;5;45mNone\u001b[0m, \u001b[38;5;34m10\u001b[0m)             │              \u001b[38;5;34m0\u001b[0m │ -                      │\n",
              "│ (\u001b[38;5;33mInputLayer\u001b[0m)              │                        │                │                        │\n",
              "├───────────────────────────┼────────────────────────┼────────────────┼────────────────────────┤\n",
              "│ dense_28 (\u001b[38;5;33mDense\u001b[0m)          │ (\u001b[38;5;45mNone\u001b[0m, \u001b[38;5;34m64\u001b[0m)             │            \u001b[38;5;34m704\u001b[0m │ input_layer_5[\u001b[38;5;34m0\u001b[0m][\u001b[38;5;34m0\u001b[0m]    │\n",
              "├───────────────────────────┼────────────────────────┼────────────────┼────────────────────────┤\n",
              "│ dense_29 (\u001b[38;5;33mDense\u001b[0m)          │ (\u001b[38;5;45mNone\u001b[0m, \u001b[38;5;34m128\u001b[0m)            │          \u001b[38;5;34m8,320\u001b[0m │ dense_28[\u001b[38;5;34m0\u001b[0m][\u001b[38;5;34m0\u001b[0m]         │\n",
              "├───────────────────────────┼────────────────────────┼────────────────┼────────────────────────┤\n",
              "│ dense_30 (\u001b[38;5;33mDense\u001b[0m)          │ (\u001b[38;5;45mNone\u001b[0m, \u001b[38;5;34m32\u001b[0m)             │          \u001b[38;5;34m4,128\u001b[0m │ dense_29[\u001b[38;5;34m0\u001b[0m][\u001b[38;5;34m0\u001b[0m]         │\n",
              "├───────────────────────────┼────────────────────────┼────────────────┼────────────────────────┤\n",
              "│ dense_31 (\u001b[38;5;33mDense\u001b[0m)          │ (\u001b[38;5;45mNone\u001b[0m, \u001b[38;5;34m32\u001b[0m)             │          \u001b[38;5;34m4,128\u001b[0m │ dense_29[\u001b[38;5;34m0\u001b[0m][\u001b[38;5;34m0\u001b[0m]         │\n",
              "├───────────────────────────┼────────────────────────┼────────────────┼────────────────────────┤\n",
              "│ department_output (\u001b[38;5;33mDense\u001b[0m) │ (\u001b[38;5;45mNone\u001b[0m, \u001b[38;5;34m3\u001b[0m)              │             \u001b[38;5;34m99\u001b[0m │ dense_30[\u001b[38;5;34m0\u001b[0m][\u001b[38;5;34m0\u001b[0m]         │\n",
              "├───────────────────────────┼────────────────────────┼────────────────┼────────────────────────┤\n",
              "│ attrition_output (\u001b[38;5;33mDense\u001b[0m)  │ (\u001b[38;5;45mNone\u001b[0m, \u001b[38;5;34m2\u001b[0m)              │             \u001b[38;5;34m66\u001b[0m │ dense_31[\u001b[38;5;34m0\u001b[0m][\u001b[38;5;34m0\u001b[0m]         │\n",
              "└───────────────────────────┴────────────────────────┴────────────────┴────────────────────────┘\n"
            ],
            "text/html": [
              "<pre style=\"white-space:pre;overflow-x:auto;line-height:normal;font-family:Menlo,'DejaVu Sans Mono',consolas,'Courier New',monospace\">┏━━━━━━━━━━━━━━━━━━━━━━━━━━━┳━━━━━━━━━━━━━━━━━━━━━━━━┳━━━━━━━━━━━━━━━━┳━━━━━━━━━━━━━━━━━━━━━━━━┓\n",
              "┃<span style=\"font-weight: bold\"> Layer (type)              </span>┃<span style=\"font-weight: bold\"> Output Shape           </span>┃<span style=\"font-weight: bold\">        Param # </span>┃<span style=\"font-weight: bold\"> Connected to           </span>┃\n",
              "┡━━━━━━━━━━━━━━━━━━━━━━━━━━━╇━━━━━━━━━━━━━━━━━━━━━━━━╇━━━━━━━━━━━━━━━━╇━━━━━━━━━━━━━━━━━━━━━━━━┩\n",
              "│ input_layer_5             │ (<span style=\"color: #00d7ff; text-decoration-color: #00d7ff\">None</span>, <span style=\"color: #00af00; text-decoration-color: #00af00\">10</span>)             │              <span style=\"color: #00af00; text-decoration-color: #00af00\">0</span> │ -                      │\n",
              "│ (<span style=\"color: #0087ff; text-decoration-color: #0087ff\">InputLayer</span>)              │                        │                │                        │\n",
              "├───────────────────────────┼────────────────────────┼────────────────┼────────────────────────┤\n",
              "│ dense_28 (<span style=\"color: #0087ff; text-decoration-color: #0087ff\">Dense</span>)          │ (<span style=\"color: #00d7ff; text-decoration-color: #00d7ff\">None</span>, <span style=\"color: #00af00; text-decoration-color: #00af00\">64</span>)             │            <span style=\"color: #00af00; text-decoration-color: #00af00\">704</span> │ input_layer_5[<span style=\"color: #00af00; text-decoration-color: #00af00\">0</span>][<span style=\"color: #00af00; text-decoration-color: #00af00\">0</span>]    │\n",
              "├───────────────────────────┼────────────────────────┼────────────────┼────────────────────────┤\n",
              "│ dense_29 (<span style=\"color: #0087ff; text-decoration-color: #0087ff\">Dense</span>)          │ (<span style=\"color: #00d7ff; text-decoration-color: #00d7ff\">None</span>, <span style=\"color: #00af00; text-decoration-color: #00af00\">128</span>)            │          <span style=\"color: #00af00; text-decoration-color: #00af00\">8,320</span> │ dense_28[<span style=\"color: #00af00; text-decoration-color: #00af00\">0</span>][<span style=\"color: #00af00; text-decoration-color: #00af00\">0</span>]         │\n",
              "├───────────────────────────┼────────────────────────┼────────────────┼────────────────────────┤\n",
              "│ dense_30 (<span style=\"color: #0087ff; text-decoration-color: #0087ff\">Dense</span>)          │ (<span style=\"color: #00d7ff; text-decoration-color: #00d7ff\">None</span>, <span style=\"color: #00af00; text-decoration-color: #00af00\">32</span>)             │          <span style=\"color: #00af00; text-decoration-color: #00af00\">4,128</span> │ dense_29[<span style=\"color: #00af00; text-decoration-color: #00af00\">0</span>][<span style=\"color: #00af00; text-decoration-color: #00af00\">0</span>]         │\n",
              "├───────────────────────────┼────────────────────────┼────────────────┼────────────────────────┤\n",
              "│ dense_31 (<span style=\"color: #0087ff; text-decoration-color: #0087ff\">Dense</span>)          │ (<span style=\"color: #00d7ff; text-decoration-color: #00d7ff\">None</span>, <span style=\"color: #00af00; text-decoration-color: #00af00\">32</span>)             │          <span style=\"color: #00af00; text-decoration-color: #00af00\">4,128</span> │ dense_29[<span style=\"color: #00af00; text-decoration-color: #00af00\">0</span>][<span style=\"color: #00af00; text-decoration-color: #00af00\">0</span>]         │\n",
              "├───────────────────────────┼────────────────────────┼────────────────┼────────────────────────┤\n",
              "│ department_output (<span style=\"color: #0087ff; text-decoration-color: #0087ff\">Dense</span>) │ (<span style=\"color: #00d7ff; text-decoration-color: #00d7ff\">None</span>, <span style=\"color: #00af00; text-decoration-color: #00af00\">3</span>)              │             <span style=\"color: #00af00; text-decoration-color: #00af00\">99</span> │ dense_30[<span style=\"color: #00af00; text-decoration-color: #00af00\">0</span>][<span style=\"color: #00af00; text-decoration-color: #00af00\">0</span>]         │\n",
              "├───────────────────────────┼────────────────────────┼────────────────┼────────────────────────┤\n",
              "│ attrition_output (<span style=\"color: #0087ff; text-decoration-color: #0087ff\">Dense</span>)  │ (<span style=\"color: #00d7ff; text-decoration-color: #00d7ff\">None</span>, <span style=\"color: #00af00; text-decoration-color: #00af00\">2</span>)              │             <span style=\"color: #00af00; text-decoration-color: #00af00\">66</span> │ dense_31[<span style=\"color: #00af00; text-decoration-color: #00af00\">0</span>][<span style=\"color: #00af00; text-decoration-color: #00af00\">0</span>]         │\n",
              "└───────────────────────────┴────────────────────────┴────────────────┴────────────────────────┘\n",
              "</pre>\n"
            ]
          },
          "metadata": {}
        },
        {
          "output_type": "display_data",
          "data": {
            "text/plain": [
              "\u001b[1m Total params: \u001b[0m\u001b[38;5;34m17,445\u001b[0m (68.14 KB)\n"
            ],
            "text/html": [
              "<pre style=\"white-space:pre;overflow-x:auto;line-height:normal;font-family:Menlo,'DejaVu Sans Mono',consolas,'Courier New',monospace\"><span style=\"font-weight: bold\"> Total params: </span><span style=\"color: #00af00; text-decoration-color: #00af00\">17,445</span> (68.14 KB)\n",
              "</pre>\n"
            ]
          },
          "metadata": {}
        },
        {
          "output_type": "display_data",
          "data": {
            "text/plain": [
              "\u001b[1m Trainable params: \u001b[0m\u001b[38;5;34m17,445\u001b[0m (68.14 KB)\n"
            ],
            "text/html": [
              "<pre style=\"white-space:pre;overflow-x:auto;line-height:normal;font-family:Menlo,'DejaVu Sans Mono',consolas,'Courier New',monospace\"><span style=\"font-weight: bold\"> Trainable params: </span><span style=\"color: #00af00; text-decoration-color: #00af00\">17,445</span> (68.14 KB)\n",
              "</pre>\n"
            ]
          },
          "metadata": {}
        },
        {
          "output_type": "display_data",
          "data": {
            "text/plain": [
              "\u001b[1m Non-trainable params: \u001b[0m\u001b[38;5;34m0\u001b[0m (0.00 B)\n"
            ],
            "text/html": [
              "<pre style=\"white-space:pre;overflow-x:auto;line-height:normal;font-family:Menlo,'DejaVu Sans Mono',consolas,'Courier New',monospace\"><span style=\"font-weight: bold\"> Non-trainable params: </span><span style=\"color: #00af00; text-decoration-color: #00af00\">0</span> (0.00 B)\n",
              "</pre>\n"
            ]
          },
          "metadata": {}
        }
      ],
      "source": [
        "# Create the model\n",
        "model = Model(inputs=input_layer, outputs=[department_output, att_output])\n",
        "\n",
        "# Compile the model\n",
        "model.compile(optimizer=Adam(),\n",
        "              loss={\"department_output\": \"categorical_crossentropy\",\n",
        "                    \"attrition_output\": \"categorical_crossentropy\"},\n",
        "              metrics={\"department_output\" : [\"accuracy\"], \"attrition_output\" : [\"accuracy\"]}\n",
        ")\n",
        "\n",
        "# Summarize the model\n",
        "model.summary()"
      ]
    },
    {
      "cell_type": "markdown",
      "source": [
        "![image.png](data:image/png;base64,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)"
      ],
      "metadata": {
        "id": "Z1llSTs-Pdg7"
      }
    },
    {
      "cell_type": "code",
      "execution_count": 138,
      "metadata": {
        "colab": {
          "base_uri": "https://localhost:8080/"
        },
        "id": "c8oGy0dpGc3U",
        "outputId": "6e215fb0-3a0c-4af0-b371-c6898c9a2b86"
      },
      "outputs": [
        {
          "output_type": "stream",
          "name": "stdout",
          "text": [
            "Epoch 1/100\n",
            "\u001b[1m35/35\u001b[0m \u001b[32m━━━━━━━━━━━━━━━━━━━━\u001b[0m\u001b[37m\u001b[0m \u001b[1m4s\u001b[0m 24ms/step - attrition_output_accuracy: 0.7750 - attrition_output_loss: 0.5628 - department_output_accuracy: 0.6257 - department_output_loss: 0.9297 - loss: 1.4929 - val_attrition_output_accuracy: 0.8804 - val_attrition_output_loss: 0.3566 - val_department_output_accuracy: 0.6712 - val_department_output_loss: 0.7797 - val_loss: 1.1459\n",
            "Epoch 2/100\n",
            "\u001b[1m35/35\u001b[0m \u001b[32m━━━━━━━━━━━━━━━━━━━━\u001b[0m\u001b[37m\u001b[0m \u001b[1m0s\u001b[0m 9ms/step - attrition_output_accuracy: 0.8271 - attrition_output_loss: 0.4246 - department_output_accuracy: 0.6280 - department_output_loss: 0.7867 - loss: 1.2111 - val_attrition_output_accuracy: 0.8886 - val_attrition_output_loss: 0.3534 - val_department_output_accuracy: 0.6712 - val_department_output_loss: 0.7762 - val_loss: 1.1382\n",
            "Epoch 3/100\n",
            "\u001b[1m35/35\u001b[0m \u001b[32m━━━━━━━━━━━━━━━━━━━━\u001b[0m\u001b[37m\u001b[0m \u001b[1m0s\u001b[0m 9ms/step - attrition_output_accuracy: 0.8453 - attrition_output_loss: 0.3794 - department_output_accuracy: 0.6214 - department_output_loss: 0.7857 - loss: 1.1652 - val_attrition_output_accuracy: 0.8723 - val_attrition_output_loss: 0.3614 - val_department_output_accuracy: 0.6712 - val_department_output_loss: 0.7797 - val_loss: 1.1486\n",
            "Epoch 4/100\n",
            "\u001b[1m35/35\u001b[0m \u001b[32m━━━━━━━━━━━━━━━━━━━━\u001b[0m\u001b[37m\u001b[0m \u001b[1m0s\u001b[0m 5ms/step - attrition_output_accuracy: 0.8645 - attrition_output_loss: 0.3638 - department_output_accuracy: 0.6590 - department_output_loss: 0.7309 - loss: 1.0946 - val_attrition_output_accuracy: 0.8777 - val_attrition_output_loss: 0.3500 - val_department_output_accuracy: 0.6658 - val_department_output_loss: 0.7894 - val_loss: 1.1451\n",
            "Epoch 5/100\n",
            "\u001b[1m35/35\u001b[0m \u001b[32m━━━━━━━━━━━━━━━━━━━━\u001b[0m\u001b[37m\u001b[0m \u001b[1m0s\u001b[0m 6ms/step - attrition_output_accuracy: 0.8483 - attrition_output_loss: 0.3727 - department_output_accuracy: 0.6342 - department_output_loss: 0.7689 - loss: 1.1415 - val_attrition_output_accuracy: 0.8832 - val_attrition_output_loss: 0.3349 - val_department_output_accuracy: 0.6712 - val_department_output_loss: 0.7904 - val_loss: 1.1319\n",
            "Epoch 6/100\n",
            "\u001b[1m35/35\u001b[0m \u001b[32m━━━━━━━━━━━━━━━━━━━━\u001b[0m\u001b[37m\u001b[0m \u001b[1m0s\u001b[0m 6ms/step - attrition_output_accuracy: 0.8430 - attrition_output_loss: 0.3800 - department_output_accuracy: 0.6561 - department_output_loss: 0.7374 - loss: 1.1170 - val_attrition_output_accuracy: 0.8886 - val_attrition_output_loss: 0.3309 - val_department_output_accuracy: 0.6196 - val_department_output_loss: 0.8133 - val_loss: 1.1480\n",
            "Epoch 7/100\n",
            "\u001b[1m35/35\u001b[0m \u001b[32m━━━━━━━━━━━━━━━━━━━━\u001b[0m\u001b[37m\u001b[0m \u001b[1m0s\u001b[0m 6ms/step - attrition_output_accuracy: 0.8464 - attrition_output_loss: 0.3729 - department_output_accuracy: 0.6502 - department_output_loss: 0.7447 - loss: 1.1178 - val_attrition_output_accuracy: 0.8614 - val_attrition_output_loss: 0.3534 - val_department_output_accuracy: 0.6630 - val_department_output_loss: 0.8034 - val_loss: 1.1617\n",
            "Epoch 8/100\n",
            "\u001b[1m35/35\u001b[0m \u001b[32m━━━━━━━━━━━━━━━━━━━━\u001b[0m\u001b[37m\u001b[0m \u001b[1m0s\u001b[0m 6ms/step - attrition_output_accuracy: 0.8625 - attrition_output_loss: 0.3367 - department_output_accuracy: 0.6683 - department_output_loss: 0.7110 - loss: 1.0475 - val_attrition_output_accuracy: 0.8370 - val_attrition_output_loss: 0.3777 - val_department_output_accuracy: 0.6712 - val_department_output_loss: 0.8076 - val_loss: 1.1910\n",
            "Epoch 9/100\n",
            "\u001b[1m35/35\u001b[0m \u001b[32m━━━━━━━━━━━━━━━━━━━━\u001b[0m\u001b[37m\u001b[0m \u001b[1m0s\u001b[0m 6ms/step - attrition_output_accuracy: 0.8645 - attrition_output_loss: 0.3369 - department_output_accuracy: 0.6616 - department_output_loss: 0.7122 - loss: 1.0490 - val_attrition_output_accuracy: 0.8777 - val_attrition_output_loss: 0.3427 - val_department_output_accuracy: 0.6576 - val_department_output_loss: 0.8080 - val_loss: 1.1554\n",
            "Epoch 10/100\n",
            "\u001b[1m35/35\u001b[0m \u001b[32m━━━━━━━━━━━━━━━━━━━━\u001b[0m\u001b[37m\u001b[0m \u001b[1m0s\u001b[0m 5ms/step - attrition_output_accuracy: 0.8667 - attrition_output_loss: 0.3316 - department_output_accuracy: 0.6710 - department_output_loss: 0.7150 - loss: 1.0470 - val_attrition_output_accuracy: 0.8832 - val_attrition_output_loss: 0.3363 - val_department_output_accuracy: 0.6630 - val_department_output_loss: 0.8251 - val_loss: 1.1668\n",
            "Epoch 11/100\n",
            "\u001b[1m35/35\u001b[0m \u001b[32m━━━━━━━━━━━━━━━━━━━━\u001b[0m\u001b[37m\u001b[0m \u001b[1m0s\u001b[0m 5ms/step - attrition_output_accuracy: 0.8925 - attrition_output_loss: 0.2907 - department_output_accuracy: 0.6803 - department_output_loss: 0.6973 - loss: 0.9880 - val_attrition_output_accuracy: 0.8723 - val_attrition_output_loss: 0.3479 - val_department_output_accuracy: 0.6196 - val_department_output_loss: 0.8303 - val_loss: 1.1819\n",
            "Epoch 12/100\n",
            "\u001b[1m35/35\u001b[0m \u001b[32m━━━━━━━━━━━━━━━━━━━━\u001b[0m\u001b[37m\u001b[0m \u001b[1m0s\u001b[0m 5ms/step - attrition_output_accuracy: 0.8930 - attrition_output_loss: 0.2850 - department_output_accuracy: 0.7007 - department_output_loss: 0.6902 - loss: 0.9752 - val_attrition_output_accuracy: 0.8505 - val_attrition_output_loss: 0.3662 - val_department_output_accuracy: 0.6440 - val_department_output_loss: 0.8195 - val_loss: 1.1920\n",
            "Epoch 13/100\n",
            "\u001b[1m35/35\u001b[0m \u001b[32m━━━━━━━━━━━━━━━━━━━━\u001b[0m\u001b[37m\u001b[0m \u001b[1m0s\u001b[0m 10ms/step - attrition_output_accuracy: 0.8711 - attrition_output_loss: 0.3191 - department_output_accuracy: 0.7006 - department_output_loss: 0.6648 - loss: 0.9838 - val_attrition_output_accuracy: 0.8668 - val_attrition_output_loss: 0.3430 - val_department_output_accuracy: 0.6549 - val_department_output_loss: 0.8368 - val_loss: 1.1847\n",
            "Epoch 14/100\n",
            "\u001b[1m35/35\u001b[0m \u001b[32m━━━━━━━━━━━━━━━━━━━━\u001b[0m\u001b[37m\u001b[0m \u001b[1m0s\u001b[0m 6ms/step - attrition_output_accuracy: 0.8902 - attrition_output_loss: 0.2804 - department_output_accuracy: 0.6789 - department_output_loss: 0.6693 - loss: 0.9496 - val_attrition_output_accuracy: 0.8750 - val_attrition_output_loss: 0.3505 - val_department_output_accuracy: 0.6141 - val_department_output_loss: 0.8453 - val_loss: 1.2007\n",
            "Epoch 15/100\n",
            "\u001b[1m35/35\u001b[0m \u001b[32m━━━━━━━━━━━━━━━━━━━━\u001b[0m\u001b[37m\u001b[0m \u001b[1m0s\u001b[0m 6ms/step - attrition_output_accuracy: 0.8755 - attrition_output_loss: 0.3062 - department_output_accuracy: 0.7085 - department_output_loss: 0.6403 - loss: 0.9462 - val_attrition_output_accuracy: 0.8614 - val_attrition_output_loss: 0.3688 - val_department_output_accuracy: 0.5734 - val_department_output_loss: 0.8571 - val_loss: 1.2319\n",
            "Epoch 16/100\n",
            "\u001b[1m35/35\u001b[0m \u001b[32m━━━━━━━━━━━━━━━━━━━━\u001b[0m\u001b[37m\u001b[0m \u001b[1m0s\u001b[0m 6ms/step - attrition_output_accuracy: 0.8784 - attrition_output_loss: 0.2947 - department_output_accuracy: 0.7073 - department_output_loss: 0.6769 - loss: 0.9713 - val_attrition_output_accuracy: 0.8478 - val_attrition_output_loss: 0.3828 - val_department_output_accuracy: 0.6087 - val_department_output_loss: 0.8495 - val_loss: 1.2383\n",
            "Epoch 17/100\n",
            "\u001b[1m35/35\u001b[0m \u001b[32m━━━━━━━━━━━━━━━━━━━━\u001b[0m\u001b[37m\u001b[0m \u001b[1m0s\u001b[0m 6ms/step - attrition_output_accuracy: 0.8883 - attrition_output_loss: 0.2771 - department_output_accuracy: 0.7073 - department_output_loss: 0.6676 - loss: 0.9448 - val_attrition_output_accuracy: 0.8723 - val_attrition_output_loss: 0.3495 - val_department_output_accuracy: 0.6141 - val_department_output_loss: 0.8546 - val_loss: 1.2123\n",
            "Epoch 18/100\n",
            "\u001b[1m35/35\u001b[0m \u001b[32m━━━━━━━━━━━━━━━━━━━━\u001b[0m\u001b[37m\u001b[0m \u001b[1m0s\u001b[0m 5ms/step - attrition_output_accuracy: 0.8978 - attrition_output_loss: 0.2662 - department_output_accuracy: 0.7158 - department_output_loss: 0.6242 - loss: 0.8904 - val_attrition_output_accuracy: 0.8478 - val_attrition_output_loss: 0.3903 - val_department_output_accuracy: 0.5625 - val_department_output_loss: 0.8911 - val_loss: 1.2863\n",
            "Epoch 19/100\n",
            "\u001b[1m35/35\u001b[0m \u001b[32m━━━━━━━━━━━━━━━━━━━━\u001b[0m\u001b[37m\u001b[0m \u001b[1m0s\u001b[0m 5ms/step - attrition_output_accuracy: 0.9097 - attrition_output_loss: 0.2435 - department_output_accuracy: 0.7164 - department_output_loss: 0.6361 - loss: 0.8793 - val_attrition_output_accuracy: 0.8750 - val_attrition_output_loss: 0.3555 - val_department_output_accuracy: 0.5598 - val_department_output_loss: 0.8985 - val_loss: 1.2604\n",
            "Epoch 20/100\n",
            "\u001b[1m35/35\u001b[0m \u001b[32m━━━━━━━━━━━━━━━━━━━━\u001b[0m\u001b[37m\u001b[0m \u001b[1m0s\u001b[0m 5ms/step - attrition_output_accuracy: 0.8907 - attrition_output_loss: 0.2650 - department_output_accuracy: 0.7323 - department_output_loss: 0.6109 - loss: 0.8755 - val_attrition_output_accuracy: 0.8125 - val_attrition_output_loss: 0.4194 - val_department_output_accuracy: 0.6196 - val_department_output_loss: 0.8796 - val_loss: 1.3063\n",
            "Epoch 21/100\n",
            "\u001b[1m35/35\u001b[0m \u001b[32m━━━━━━━━━━━━━━━━━━━━\u001b[0m\u001b[37m\u001b[0m \u001b[1m0s\u001b[0m 5ms/step - attrition_output_accuracy: 0.9179 - attrition_output_loss: 0.2182 - department_output_accuracy: 0.7326 - department_output_loss: 0.6070 - loss: 0.8251 - val_attrition_output_accuracy: 0.8560 - val_attrition_output_loss: 0.3910 - val_department_output_accuracy: 0.6033 - val_department_output_loss: 0.8915 - val_loss: 1.2895\n",
            "Epoch 22/100\n",
            "\u001b[1m35/35\u001b[0m \u001b[32m━━━━━━━━━━━━━━━━━━━━\u001b[0m\u001b[37m\u001b[0m \u001b[1m0s\u001b[0m 5ms/step - attrition_output_accuracy: 0.9013 - attrition_output_loss: 0.2568 - department_output_accuracy: 0.7415 - department_output_loss: 0.5737 - loss: 0.8306 - val_attrition_output_accuracy: 0.8505 - val_attrition_output_loss: 0.3940 - val_department_output_accuracy: 0.6087 - val_department_output_loss: 0.9084 - val_loss: 1.3095\n",
            "Epoch 23/100\n",
            "\u001b[1m35/35\u001b[0m \u001b[32m━━━━━━━━━━━━━━━━━━━━\u001b[0m\u001b[37m\u001b[0m \u001b[1m0s\u001b[0m 6ms/step - attrition_output_accuracy: 0.9155 - attrition_output_loss: 0.2335 - department_output_accuracy: 0.7774 - department_output_loss: 0.5401 - loss: 0.7733 - val_attrition_output_accuracy: 0.8614 - val_attrition_output_loss: 0.3762 - val_department_output_accuracy: 0.5951 - val_department_output_loss: 0.9039 - val_loss: 1.2870\n",
            "Epoch 24/100\n",
            "\u001b[1m35/35\u001b[0m \u001b[32m━━━━━━━━━━━━━━━━━━━━\u001b[0m\u001b[37m\u001b[0m \u001b[1m0s\u001b[0m 6ms/step - attrition_output_accuracy: 0.9201 - attrition_output_loss: 0.2072 - department_output_accuracy: 0.7460 - department_output_loss: 0.5710 - loss: 0.7783 - val_attrition_output_accuracy: 0.8614 - val_attrition_output_loss: 0.3993 - val_department_output_accuracy: 0.5761 - val_department_output_loss: 0.9321 - val_loss: 1.3395\n",
            "Epoch 25/100\n",
            "\u001b[1m35/35\u001b[0m \u001b[32m━━━━━━━━━━━━━━━━━━━━\u001b[0m\u001b[37m\u001b[0m \u001b[1m0s\u001b[0m 5ms/step - attrition_output_accuracy: 0.9219 - attrition_output_loss: 0.2151 - department_output_accuracy: 0.7888 - department_output_loss: 0.5220 - loss: 0.7374 - val_attrition_output_accuracy: 0.8478 - val_attrition_output_loss: 0.3993 - val_department_output_accuracy: 0.5897 - val_department_output_loss: 0.9367 - val_loss: 1.3439\n",
            "Epoch 26/100\n",
            "\u001b[1m35/35\u001b[0m \u001b[32m━━━━━━━━━━━━━━━━━━━━\u001b[0m\u001b[37m\u001b[0m \u001b[1m0s\u001b[0m 5ms/step - attrition_output_accuracy: 0.9359 - attrition_output_loss: 0.1954 - department_output_accuracy: 0.7800 - department_output_loss: 0.5184 - loss: 0.7134 - val_attrition_output_accuracy: 0.8560 - val_attrition_output_loss: 0.3995 - val_department_output_accuracy: 0.5815 - val_department_output_loss: 0.9470 - val_loss: 1.3601\n",
            "Epoch 27/100\n",
            "\u001b[1m35/35\u001b[0m \u001b[32m━━━━━━━━━━━━━━━━━━━━\u001b[0m\u001b[37m\u001b[0m \u001b[1m0s\u001b[0m 5ms/step - attrition_output_accuracy: 0.9244 - attrition_output_loss: 0.2118 - department_output_accuracy: 0.7931 - department_output_loss: 0.4956 - loss: 0.7075 - val_attrition_output_accuracy: 0.8533 - val_attrition_output_loss: 0.4046 - val_department_output_accuracy: 0.5652 - val_department_output_loss: 0.9632 - val_loss: 1.3771\n",
            "Epoch 28/100\n",
            "\u001b[1m35/35\u001b[0m \u001b[32m━━━━━━━━━━━━━━━━━━━━\u001b[0m\u001b[37m\u001b[0m \u001b[1m0s\u001b[0m 6ms/step - attrition_output_accuracy: 0.9107 - attrition_output_loss: 0.2157 - department_output_accuracy: 0.8021 - department_output_loss: 0.5118 - loss: 0.7279 - val_attrition_output_accuracy: 0.8478 - val_attrition_output_loss: 0.4323 - val_department_output_accuracy: 0.6087 - val_department_output_loss: 0.9536 - val_loss: 1.3985\n",
            "Epoch 29/100\n",
            "\u001b[1m35/35\u001b[0m \u001b[32m━━━━━━━━━━━━━━━━━━━━\u001b[0m\u001b[37m\u001b[0m \u001b[1m0s\u001b[0m 5ms/step - attrition_output_accuracy: 0.9279 - attrition_output_loss: 0.1880 - department_output_accuracy: 0.7885 - department_output_loss: 0.4995 - loss: 0.6874 - val_attrition_output_accuracy: 0.8451 - val_attrition_output_loss: 0.4334 - val_department_output_accuracy: 0.5707 - val_department_output_loss: 0.9914 - val_loss: 1.4359\n",
            "Epoch 30/100\n",
            "\u001b[1m35/35\u001b[0m \u001b[32m━━━━━━━━━━━━━━━━━━━━\u001b[0m\u001b[37m\u001b[0m \u001b[1m0s\u001b[0m 5ms/step - attrition_output_accuracy: 0.9370 - attrition_output_loss: 0.1763 - department_output_accuracy: 0.8144 - department_output_loss: 0.4717 - loss: 0.6478 - val_attrition_output_accuracy: 0.8397 - val_attrition_output_loss: 0.4565 - val_department_output_accuracy: 0.5951 - val_department_output_loss: 0.9931 - val_loss: 1.4609\n",
            "Epoch 31/100\n",
            "\u001b[1m35/35\u001b[0m \u001b[32m━━━━━━━━━━━━━━━━━━━━\u001b[0m\u001b[37m\u001b[0m \u001b[1m0s\u001b[0m 5ms/step - attrition_output_accuracy: 0.9402 - attrition_output_loss: 0.1717 - department_output_accuracy: 0.8108 - department_output_loss: 0.4746 - loss: 0.6462 - val_attrition_output_accuracy: 0.8261 - val_attrition_output_loss: 0.4882 - val_department_output_accuracy: 0.5761 - val_department_output_loss: 1.0120 - val_loss: 1.5120\n",
            "Epoch 32/100\n",
            "\u001b[1m35/35\u001b[0m \u001b[32m━━━━━━━━━━━━━━━━━━━━\u001b[0m\u001b[37m\u001b[0m \u001b[1m0s\u001b[0m 6ms/step - attrition_output_accuracy: 0.9393 - attrition_output_loss: 0.1719 - department_output_accuracy: 0.8084 - department_output_loss: 0.4581 - loss: 0.6300 - val_attrition_output_accuracy: 0.8424 - val_attrition_output_loss: 0.4775 - val_department_output_accuracy: 0.6087 - val_department_output_loss: 1.0456 - val_loss: 1.5335\n",
            "Epoch 33/100\n",
            "\u001b[1m35/35\u001b[0m \u001b[32m━━━━━━━━━━━━━━━━━━━━\u001b[0m\u001b[37m\u001b[0m \u001b[1m0s\u001b[0m 6ms/step - attrition_output_accuracy: 0.9438 - attrition_output_loss: 0.1519 - department_output_accuracy: 0.8255 - department_output_loss: 0.4291 - loss: 0.5810 - val_attrition_output_accuracy: 0.8370 - val_attrition_output_loss: 0.4911 - val_department_output_accuracy: 0.5598 - val_department_output_loss: 1.0540 - val_loss: 1.5560\n",
            "Epoch 34/100\n",
            "\u001b[1m35/35\u001b[0m \u001b[32m━━━━━━━━━━━━━━━━━━━━\u001b[0m\u001b[37m\u001b[0m \u001b[1m0s\u001b[0m 5ms/step - attrition_output_accuracy: 0.9395 - attrition_output_loss: 0.1614 - department_output_accuracy: 0.8470 - department_output_loss: 0.4276 - loss: 0.5888 - val_attrition_output_accuracy: 0.8234 - val_attrition_output_loss: 0.4868 - val_department_output_accuracy: 0.5707 - val_department_output_loss: 1.0961 - val_loss: 1.5952\n",
            "Epoch 35/100\n",
            "\u001b[1m35/35\u001b[0m \u001b[32m━━━━━━━━━━━━━━━━━━━━\u001b[0m\u001b[37m\u001b[0m \u001b[1m0s\u001b[0m 5ms/step - attrition_output_accuracy: 0.9506 - attrition_output_loss: 0.1477 - department_output_accuracy: 0.8357 - department_output_loss: 0.4249 - loss: 0.5725 - val_attrition_output_accuracy: 0.8342 - val_attrition_output_loss: 0.5226 - val_department_output_accuracy: 0.5326 - val_department_output_loss: 1.1406 - val_loss: 1.6741\n",
            "Epoch 36/100\n",
            "\u001b[1m35/35\u001b[0m \u001b[32m━━━━━━━━━━━━━━━━━━━━\u001b[0m\u001b[37m\u001b[0m \u001b[1m0s\u001b[0m 6ms/step - attrition_output_accuracy: 0.9481 - attrition_output_loss: 0.1447 - department_output_accuracy: 0.8499 - department_output_loss: 0.3871 - loss: 0.5317 - val_attrition_output_accuracy: 0.8560 - val_attrition_output_loss: 0.4871 - val_department_output_accuracy: 0.5652 - val_department_output_loss: 1.1155 - val_loss: 1.6201\n",
            "Epoch 37/100\n",
            "\u001b[1m35/35\u001b[0m \u001b[32m━━━━━━━━━━━━━━━━━━━━\u001b[0m\u001b[37m\u001b[0m \u001b[1m0s\u001b[0m 5ms/step - attrition_output_accuracy: 0.9425 - attrition_output_loss: 0.1605 - department_output_accuracy: 0.8678 - department_output_loss: 0.3774 - loss: 0.5377 - val_attrition_output_accuracy: 0.8451 - val_attrition_output_loss: 0.5212 - val_department_output_accuracy: 0.5516 - val_department_output_loss: 1.1503 - val_loss: 1.6811\n",
            "Epoch 38/100\n",
            "\u001b[1m35/35\u001b[0m \u001b[32m━━━━━━━━━━━━━━━━━━━━\u001b[0m\u001b[37m\u001b[0m \u001b[1m0s\u001b[0m 5ms/step - attrition_output_accuracy: 0.9419 - attrition_output_loss: 0.1360 - department_output_accuracy: 0.8654 - department_output_loss: 0.3672 - loss: 0.5034 - val_attrition_output_accuracy: 0.8261 - val_attrition_output_loss: 0.5711 - val_department_output_accuracy: 0.5408 - val_department_output_loss: 1.2070 - val_loss: 1.7874\n",
            "Epoch 39/100\n",
            "\u001b[1m35/35\u001b[0m \u001b[32m━━━━━━━━━━━━━━━━━━━━\u001b[0m\u001b[37m\u001b[0m \u001b[1m0s\u001b[0m 6ms/step - attrition_output_accuracy: 0.9505 - attrition_output_loss: 0.1400 - department_output_accuracy: 0.8537 - department_output_loss: 0.3516 - loss: 0.4917 - val_attrition_output_accuracy: 0.8179 - val_attrition_output_loss: 0.5850 - val_department_output_accuracy: 0.5951 - val_department_output_loss: 1.1717 - val_loss: 1.7714\n",
            "Epoch 40/100\n",
            "\u001b[1m35/35\u001b[0m \u001b[32m━━━━━━━━━━━━━━━━━━━━\u001b[0m\u001b[37m\u001b[0m \u001b[1m0s\u001b[0m 11ms/step - attrition_output_accuracy: 0.9589 - attrition_output_loss: 0.1207 - department_output_accuracy: 0.8427 - department_output_loss: 0.3730 - loss: 0.4937 - val_attrition_output_accuracy: 0.8424 - val_attrition_output_loss: 0.5434 - val_department_output_accuracy: 0.5652 - val_department_output_loss: 1.1704 - val_loss: 1.7319\n",
            "Epoch 41/100\n",
            "\u001b[1m35/35\u001b[0m \u001b[32m━━━━━━━━━━━━━━━━━━━━\u001b[0m\u001b[37m\u001b[0m \u001b[1m1s\u001b[0m 8ms/step - attrition_output_accuracy: 0.9700 - attrition_output_loss: 0.0973 - department_output_accuracy: 0.8985 - department_output_loss: 0.3051 - loss: 0.4021 - val_attrition_output_accuracy: 0.8370 - val_attrition_output_loss: 0.5627 - val_department_output_accuracy: 0.5353 - val_department_output_loss: 1.2392 - val_loss: 1.8229\n",
            "Epoch 42/100\n",
            "\u001b[1m35/35\u001b[0m \u001b[32m━━━━━━━━━━━━━━━━━━━━\u001b[0m\u001b[37m\u001b[0m \u001b[1m1s\u001b[0m 11ms/step - attrition_output_accuracy: 0.9522 - attrition_output_loss: 0.1182 - department_output_accuracy: 0.8642 - department_output_loss: 0.3465 - loss: 0.4648 - val_attrition_output_accuracy: 0.8342 - val_attrition_output_loss: 0.5694 - val_department_output_accuracy: 0.5489 - val_department_output_loss: 1.2213 - val_loss: 1.8142\n",
            "Epoch 43/100\n",
            "\u001b[1m35/35\u001b[0m \u001b[32m━━━━━━━━━━━━━━━━━━━━\u001b[0m\u001b[37m\u001b[0m \u001b[1m1s\u001b[0m 9ms/step - attrition_output_accuracy: 0.9652 - attrition_output_loss: 0.1038 - department_output_accuracy: 0.8947 - department_output_loss: 0.2940 - loss: 0.3977 - val_attrition_output_accuracy: 0.8288 - val_attrition_output_loss: 0.5784 - val_department_output_accuracy: 0.5598 - val_department_output_loss: 1.2127 - val_loss: 1.8057\n",
            "Epoch 44/100\n",
            "\u001b[1m35/35\u001b[0m \u001b[32m━━━━━━━━━━━━━━━━━━━━\u001b[0m\u001b[37m\u001b[0m \u001b[1m0s\u001b[0m 5ms/step - attrition_output_accuracy: 0.9668 - attrition_output_loss: 0.0996 - department_output_accuracy: 0.9065 - department_output_loss: 0.2812 - loss: 0.3809 - val_attrition_output_accuracy: 0.8451 - val_attrition_output_loss: 0.5694 - val_department_output_accuracy: 0.5897 - val_department_output_loss: 1.2617 - val_loss: 1.8520\n",
            "Epoch 45/100\n",
            "\u001b[1m35/35\u001b[0m \u001b[32m━━━━━━━━━━━━━━━━━━━━\u001b[0m\u001b[37m\u001b[0m \u001b[1m0s\u001b[0m 5ms/step - attrition_output_accuracy: 0.9598 - attrition_output_loss: 0.1108 - department_output_accuracy: 0.9011 - department_output_loss: 0.2952 - loss: 0.4060 - val_attrition_output_accuracy: 0.8234 - val_attrition_output_loss: 0.6227 - val_department_output_accuracy: 0.5543 - val_department_output_loss: 1.2771 - val_loss: 1.9145\n",
            "Epoch 46/100\n",
            "\u001b[1m35/35\u001b[0m \u001b[32m━━━━━━━━━━━━━━━━━━━━\u001b[0m\u001b[37m\u001b[0m \u001b[1m0s\u001b[0m 5ms/step - attrition_output_accuracy: 0.9622 - attrition_output_loss: 0.0980 - department_output_accuracy: 0.9242 - department_output_loss: 0.2726 - loss: 0.3705 - val_attrition_output_accuracy: 0.8179 - val_attrition_output_loss: 0.6856 - val_department_output_accuracy: 0.5788 - val_department_output_loss: 1.3046 - val_loss: 2.0098\n",
            "Epoch 47/100\n",
            "\u001b[1m35/35\u001b[0m \u001b[32m━━━━━━━━━━━━━━━━━━━━\u001b[0m\u001b[37m\u001b[0m \u001b[1m0s\u001b[0m 6ms/step - attrition_output_accuracy: 0.9668 - attrition_output_loss: 0.0906 - department_output_accuracy: 0.9271 - department_output_loss: 0.2359 - loss: 0.3267 - val_attrition_output_accuracy: 0.8234 - val_attrition_output_loss: 0.6396 - val_department_output_accuracy: 0.5679 - val_department_output_loss: 1.3455 - val_loss: 2.0006\n",
            "Epoch 48/100\n",
            "\u001b[1m35/35\u001b[0m \u001b[32m━━━━━━━━━━━━━━━━━━━━\u001b[0m\u001b[37m\u001b[0m \u001b[1m0s\u001b[0m 6ms/step - attrition_output_accuracy: 0.9741 - attrition_output_loss: 0.0797 - department_output_accuracy: 0.9326 - department_output_loss: 0.2384 - loss: 0.3181 - val_attrition_output_accuracy: 0.8071 - val_attrition_output_loss: 0.6931 - val_department_output_accuracy: 0.5408 - val_department_output_loss: 1.3905 - val_loss: 2.1007\n",
            "Epoch 49/100\n",
            "\u001b[1m35/35\u001b[0m \u001b[32m━━━━━━━━━━━━━━━━━━━━\u001b[0m\u001b[37m\u001b[0m \u001b[1m0s\u001b[0m 6ms/step - attrition_output_accuracy: 0.9729 - attrition_output_loss: 0.0812 - department_output_accuracy: 0.9380 - department_output_loss: 0.2218 - loss: 0.3029 - val_attrition_output_accuracy: 0.8288 - val_attrition_output_loss: 0.6508 - val_department_output_accuracy: 0.5489 - val_department_output_loss: 1.4124 - val_loss: 2.0752\n",
            "Epoch 50/100\n",
            "\u001b[1m35/35\u001b[0m \u001b[32m━━━━━━━━━━━━━━━━━━━━\u001b[0m\u001b[37m\u001b[0m \u001b[1m0s\u001b[0m 6ms/step - attrition_output_accuracy: 0.9842 - attrition_output_loss: 0.0674 - department_output_accuracy: 0.9395 - department_output_loss: 0.2242 - loss: 0.2917 - val_attrition_output_accuracy: 0.8288 - val_attrition_output_loss: 0.6754 - val_department_output_accuracy: 0.5598 - val_department_output_loss: 1.4314 - val_loss: 2.1289\n",
            "Epoch 51/100\n",
            "\u001b[1m35/35\u001b[0m \u001b[32m━━━━━━━━━━━━━━━━━━━━\u001b[0m\u001b[37m\u001b[0m \u001b[1m0s\u001b[0m 6ms/step - attrition_output_accuracy: 0.9828 - attrition_output_loss: 0.0616 - department_output_accuracy: 0.9623 - department_output_loss: 0.1944 - loss: 0.2559 - val_attrition_output_accuracy: 0.8179 - val_attrition_output_loss: 0.6975 - val_department_output_accuracy: 0.5625 - val_department_output_loss: 1.4268 - val_loss: 2.1489\n",
            "Epoch 52/100\n",
            "\u001b[1m35/35\u001b[0m \u001b[32m━━━━━━━━━━━━━━━━━━━━\u001b[0m\u001b[37m\u001b[0m \u001b[1m0s\u001b[0m 6ms/step - attrition_output_accuracy: 0.9799 - attrition_output_loss: 0.0634 - department_output_accuracy: 0.9370 - department_output_loss: 0.2039 - loss: 0.2672 - val_attrition_output_accuracy: 0.8207 - val_attrition_output_loss: 0.6880 - val_department_output_accuracy: 0.5652 - val_department_output_loss: 1.4570 - val_loss: 2.1692\n",
            "Epoch 53/100\n",
            "\u001b[1m35/35\u001b[0m \u001b[32m━━━━━━━━━━━━━━━━━━━━\u001b[0m\u001b[37m\u001b[0m \u001b[1m0s\u001b[0m 5ms/step - attrition_output_accuracy: 0.9744 - attrition_output_loss: 0.0659 - department_output_accuracy: 0.9505 - department_output_loss: 0.1874 - loss: 0.2534 - val_attrition_output_accuracy: 0.8125 - val_attrition_output_loss: 0.7519 - val_department_output_accuracy: 0.5353 - val_department_output_loss: 1.5113 - val_loss: 2.2951\n",
            "Epoch 54/100\n",
            "\u001b[1m35/35\u001b[0m \u001b[32m━━━━━━━━━━━━━━━━━━━━\u001b[0m\u001b[37m\u001b[0m \u001b[1m0s\u001b[0m 6ms/step - attrition_output_accuracy: 0.9795 - attrition_output_loss: 0.0588 - department_output_accuracy: 0.9467 - department_output_loss: 0.1863 - loss: 0.2452 - val_attrition_output_accuracy: 0.8125 - val_attrition_output_loss: 0.7337 - val_department_output_accuracy: 0.5625 - val_department_output_loss: 1.5761 - val_loss: 2.3294\n",
            "Epoch 55/100\n",
            "\u001b[1m35/35\u001b[0m \u001b[32m━━━━━━━━━━━━━━━━━━━━\u001b[0m\u001b[37m\u001b[0m \u001b[1m0s\u001b[0m 5ms/step - attrition_output_accuracy: 0.9865 - attrition_output_loss: 0.0497 - department_output_accuracy: 0.9647 - department_output_loss: 0.1580 - loss: 0.2076 - val_attrition_output_accuracy: 0.8315 - val_attrition_output_loss: 0.7350 - val_department_output_accuracy: 0.5190 - val_department_output_loss: 1.6025 - val_loss: 2.3631\n",
            "Epoch 56/100\n",
            "\u001b[1m35/35\u001b[0m \u001b[32m━━━━━━━━━━━━━━━━━━━━\u001b[0m\u001b[37m\u001b[0m \u001b[1m0s\u001b[0m 5ms/step - attrition_output_accuracy: 0.9901 - attrition_output_loss: 0.0490 - department_output_accuracy: 0.9627 - department_output_loss: 0.1597 - loss: 0.2087 - val_attrition_output_accuracy: 0.8179 - val_attrition_output_loss: 0.7842 - val_department_output_accuracy: 0.5788 - val_department_output_loss: 1.5959 - val_loss: 2.4019\n",
            "Epoch 57/100\n",
            "\u001b[1m35/35\u001b[0m \u001b[32m━━━━━━━━━━━━━━━━━━━━\u001b[0m\u001b[37m\u001b[0m \u001b[1m0s\u001b[0m 6ms/step - attrition_output_accuracy: 0.9867 - attrition_output_loss: 0.0488 - department_output_accuracy: 0.9670 - department_output_loss: 0.1587 - loss: 0.2075 - val_attrition_output_accuracy: 0.8179 - val_attrition_output_loss: 0.7808 - val_department_output_accuracy: 0.5652 - val_department_output_loss: 1.6567 - val_loss: 2.4623\n",
            "Epoch 58/100\n",
            "\u001b[1m35/35\u001b[0m \u001b[32m━━━━━━━━━━━━━━━━━━━━\u001b[0m\u001b[37m\u001b[0m \u001b[1m0s\u001b[0m 6ms/step - attrition_output_accuracy: 0.9901 - attrition_output_loss: 0.0447 - department_output_accuracy: 0.9686 - department_output_loss: 0.1501 - loss: 0.1949 - val_attrition_output_accuracy: 0.8288 - val_attrition_output_loss: 0.7601 - val_department_output_accuracy: 0.5543 - val_department_output_loss: 1.6843 - val_loss: 2.4728\n",
            "Epoch 59/100\n",
            "\u001b[1m35/35\u001b[0m \u001b[32m━━━━━━━━━━━━━━━━━━━━\u001b[0m\u001b[37m\u001b[0m \u001b[1m0s\u001b[0m 5ms/step - attrition_output_accuracy: 0.9874 - attrition_output_loss: 0.0469 - department_output_accuracy: 0.9757 - department_output_loss: 0.1287 - loss: 0.1756 - val_attrition_output_accuracy: 0.8342 - val_attrition_output_loss: 0.7994 - val_department_output_accuracy: 0.5897 - val_department_output_loss: 1.7635 - val_loss: 2.5851\n",
            "Epoch 60/100\n",
            "\u001b[1m35/35\u001b[0m \u001b[32m━━━━━━━━━━━━━━━━━━━━\u001b[0m\u001b[37m\u001b[0m \u001b[1m0s\u001b[0m 5ms/step - attrition_output_accuracy: 0.9894 - attrition_output_loss: 0.0464 - department_output_accuracy: 0.9596 - department_output_loss: 0.1426 - loss: 0.1890 - val_attrition_output_accuracy: 0.8043 - val_attrition_output_loss: 0.8416 - val_department_output_accuracy: 0.5652 - val_department_output_loss: 1.7831 - val_loss: 2.6486\n",
            "Epoch 61/100\n",
            "\u001b[1m35/35\u001b[0m \u001b[32m━━━━━━━━━━━━━━━━━━━━\u001b[0m\u001b[37m\u001b[0m \u001b[1m0s\u001b[0m 6ms/step - attrition_output_accuracy: 0.9893 - attrition_output_loss: 0.0409 - department_output_accuracy: 0.9691 - department_output_loss: 0.1423 - loss: 0.1831 - val_attrition_output_accuracy: 0.8315 - val_attrition_output_loss: 0.7946 - val_department_output_accuracy: 0.5163 - val_department_output_loss: 1.8312 - val_loss: 2.6523\n",
            "Epoch 62/100\n",
            "\u001b[1m35/35\u001b[0m \u001b[32m━━━━━━━━━━━━━━━━━━━━\u001b[0m\u001b[37m\u001b[0m \u001b[1m0s\u001b[0m 5ms/step - attrition_output_accuracy: 0.9908 - attrition_output_loss: 0.0382 - department_output_accuracy: 0.9833 - department_output_loss: 0.1154 - loss: 0.1536 - val_attrition_output_accuracy: 0.8043 - val_attrition_output_loss: 0.9037 - val_department_output_accuracy: 0.5109 - val_department_output_loss: 1.8205 - val_loss: 2.7542\n",
            "Epoch 63/100\n",
            "\u001b[1m35/35\u001b[0m \u001b[32m━━━━━━━━━━━━━━━━━━━━\u001b[0m\u001b[37m\u001b[0m \u001b[1m0s\u001b[0m 5ms/step - attrition_output_accuracy: 0.9974 - attrition_output_loss: 0.0323 - department_output_accuracy: 0.9664 - department_output_loss: 0.1271 - loss: 0.1593 - val_attrition_output_accuracy: 0.8315 - val_attrition_output_loss: 0.8512 - val_department_output_accuracy: 0.5109 - val_department_output_loss: 1.8246 - val_loss: 2.7093\n",
            "Epoch 64/100\n",
            "\u001b[1m35/35\u001b[0m \u001b[32m━━━━━━━━━━━━━━━━━━━━\u001b[0m\u001b[37m\u001b[0m \u001b[1m0s\u001b[0m 6ms/step - attrition_output_accuracy: 0.9936 - attrition_output_loss: 0.0290 - department_output_accuracy: 0.9805 - department_output_loss: 0.1145 - loss: 0.1436 - val_attrition_output_accuracy: 0.8451 - val_attrition_output_loss: 0.8356 - val_department_output_accuracy: 0.5326 - val_department_output_loss: 1.8754 - val_loss: 2.7288\n",
            "Epoch 65/100\n",
            "\u001b[1m35/35\u001b[0m \u001b[32m━━━━━━━━━━━━━━━━━━━━\u001b[0m\u001b[37m\u001b[0m \u001b[1m0s\u001b[0m 5ms/step - attrition_output_accuracy: 0.9923 - attrition_output_loss: 0.0400 - department_output_accuracy: 0.9763 - department_output_loss: 0.1025 - loss: 0.1425 - val_attrition_output_accuracy: 0.8370 - val_attrition_output_loss: 0.8789 - val_department_output_accuracy: 0.5462 - val_department_output_loss: 1.9763 - val_loss: 2.8696\n",
            "Epoch 66/100\n",
            "\u001b[1m35/35\u001b[0m \u001b[32m━━━━━━━━━━━━━━━━━━━━\u001b[0m\u001b[37m\u001b[0m \u001b[1m0s\u001b[0m 5ms/step - attrition_output_accuracy: 0.9972 - attrition_output_loss: 0.0327 - department_output_accuracy: 0.9878 - department_output_loss: 0.1020 - loss: 0.1348 - val_attrition_output_accuracy: 0.8152 - val_attrition_output_loss: 0.9086 - val_department_output_accuracy: 0.5082 - val_department_output_loss: 1.9946 - val_loss: 2.9334\n",
            "Epoch 67/100\n",
            "\u001b[1m35/35\u001b[0m \u001b[32m━━━━━━━━━━━━━━━━━━━━\u001b[0m\u001b[37m\u001b[0m \u001b[1m0s\u001b[0m 5ms/step - attrition_output_accuracy: 0.9972 - attrition_output_loss: 0.0311 - department_output_accuracy: 0.9783 - department_output_loss: 0.0997 - loss: 0.1308 - val_attrition_output_accuracy: 0.8016 - val_attrition_output_loss: 0.9652 - val_department_output_accuracy: 0.5516 - val_department_output_loss: 2.0224 - val_loss: 3.0128\n",
            "Epoch 68/100\n",
            "\u001b[1m35/35\u001b[0m \u001b[32m━━━━━━━━━━━━━━━━━━━━\u001b[0m\u001b[37m\u001b[0m \u001b[1m0s\u001b[0m 6ms/step - attrition_output_accuracy: 0.9969 - attrition_output_loss: 0.0312 - department_output_accuracy: 0.9904 - department_output_loss: 0.0802 - loss: 0.1114 - val_attrition_output_accuracy: 0.8370 - val_attrition_output_loss: 0.9166 - val_department_output_accuracy: 0.5353 - val_department_output_loss: 2.0500 - val_loss: 2.9927\n",
            "Epoch 69/100\n",
            "\u001b[1m35/35\u001b[0m \u001b[32m━━━━━━━━━━━━━━━━━━━━\u001b[0m\u001b[37m\u001b[0m \u001b[1m0s\u001b[0m 6ms/step - attrition_output_accuracy: 0.9956 - attrition_output_loss: 0.0271 - department_output_accuracy: 0.9932 - department_output_loss: 0.0848 - loss: 0.1119 - val_attrition_output_accuracy: 0.8315 - val_attrition_output_loss: 0.9590 - val_department_output_accuracy: 0.5272 - val_department_output_loss: 2.0870 - val_loss: 3.0652\n",
            "Epoch 70/100\n",
            "\u001b[1m35/35\u001b[0m \u001b[32m━━━━━━━━━━━━━━━━━━━━\u001b[0m\u001b[37m\u001b[0m \u001b[1m0s\u001b[0m 5ms/step - attrition_output_accuracy: 0.9960 - attrition_output_loss: 0.0264 - department_output_accuracy: 0.9928 - department_output_loss: 0.0793 - loss: 0.1053 - val_attrition_output_accuracy: 0.8370 - val_attrition_output_loss: 0.9477 - val_department_output_accuracy: 0.5245 - val_department_output_loss: 2.1346 - val_loss: 3.0996\n",
            "Epoch 71/100\n",
            "\u001b[1m35/35\u001b[0m \u001b[32m━━━━━━━━━━━━━━━━━━━━\u001b[0m\u001b[37m\u001b[0m \u001b[1m0s\u001b[0m 6ms/step - attrition_output_accuracy: 0.9872 - attrition_output_loss: 0.0483 - department_output_accuracy: 0.9815 - department_output_loss: 0.0967 - loss: 0.1449 - val_attrition_output_accuracy: 0.8342 - val_attrition_output_loss: 0.9627 - val_department_output_accuracy: 0.5489 - val_department_output_loss: 2.1063 - val_loss: 3.1002\n",
            "Epoch 72/100\n",
            "\u001b[1m35/35\u001b[0m \u001b[32m━━━━━━━━━━━━━━━━━━━━\u001b[0m\u001b[37m\u001b[0m \u001b[1m0s\u001b[0m 5ms/step - attrition_output_accuracy: 0.9857 - attrition_output_loss: 0.0492 - department_output_accuracy: 0.9900 - department_output_loss: 0.0847 - loss: 0.1339 - val_attrition_output_accuracy: 0.8315 - val_attrition_output_loss: 0.9667 - val_department_output_accuracy: 0.5217 - val_department_output_loss: 2.1933 - val_loss: 3.1870\n",
            "Epoch 73/100\n",
            "\u001b[1m35/35\u001b[0m \u001b[32m━━━━━━━━━━━━━━━━━━━━\u001b[0m\u001b[37m\u001b[0m \u001b[1m0s\u001b[0m 5ms/step - attrition_output_accuracy: 0.9891 - attrition_output_loss: 0.0382 - department_output_accuracy: 0.9860 - department_output_loss: 0.0749 - loss: 0.1130 - val_attrition_output_accuracy: 0.8234 - val_attrition_output_loss: 0.9622 - val_department_output_accuracy: 0.5571 - val_department_output_loss: 2.2588 - val_loss: 3.2378\n",
            "Epoch 74/100\n",
            "\u001b[1m35/35\u001b[0m \u001b[32m━━━━━━━━━━━━━━━━━━━━\u001b[0m\u001b[37m\u001b[0m \u001b[1m0s\u001b[0m 5ms/step - attrition_output_accuracy: 0.9953 - attrition_output_loss: 0.0257 - department_output_accuracy: 0.9670 - department_output_loss: 0.1121 - loss: 0.1378 - val_attrition_output_accuracy: 0.8397 - val_attrition_output_loss: 0.9592 - val_department_output_accuracy: 0.5054 - val_department_output_loss: 2.2590 - val_loss: 3.2502\n",
            "Epoch 75/100\n",
            "\u001b[1m35/35\u001b[0m \u001b[32m━━━━━━━━━━━━━━━━━━━━\u001b[0m\u001b[37m\u001b[0m \u001b[1m0s\u001b[0m 6ms/step - attrition_output_accuracy: 0.9960 - attrition_output_loss: 0.0243 - department_output_accuracy: 0.9890 - department_output_loss: 0.0787 - loss: 0.1030 - val_attrition_output_accuracy: 0.8179 - val_attrition_output_loss: 0.9688 - val_department_output_accuracy: 0.5435 - val_department_output_loss: 2.3247 - val_loss: 3.3209\n",
            "Epoch 76/100\n",
            "\u001b[1m35/35\u001b[0m \u001b[32m━━━━━━━━━━━━━━━━━━━━\u001b[0m\u001b[37m\u001b[0m \u001b[1m0s\u001b[0m 7ms/step - attrition_output_accuracy: 0.9951 - attrition_output_loss: 0.0228 - department_output_accuracy: 0.9915 - department_output_loss: 0.0813 - loss: 0.1042 - val_attrition_output_accuracy: 0.8098 - val_attrition_output_loss: 1.0237 - val_department_output_accuracy: 0.5190 - val_department_output_loss: 2.2798 - val_loss: 3.3264\n",
            "Epoch 77/100\n",
            "\u001b[1m35/35\u001b[0m \u001b[32m━━━━━━━━━━━━━━━━━━━━\u001b[0m\u001b[37m\u001b[0m \u001b[1m0s\u001b[0m 6ms/step - attrition_output_accuracy: 0.9990 - attrition_output_loss: 0.0150 - department_output_accuracy: 0.9971 - department_output_loss: 0.0532 - loss: 0.0682 - val_attrition_output_accuracy: 0.8179 - val_attrition_output_loss: 1.0161 - val_department_output_accuracy: 0.5272 - val_department_output_loss: 2.3629 - val_loss: 3.3934\n",
            "Epoch 78/100\n",
            "\u001b[1m35/35\u001b[0m \u001b[32m━━━━━━━━━━━━━━━━━━━━\u001b[0m\u001b[37m\u001b[0m \u001b[1m0s\u001b[0m 6ms/step - attrition_output_accuracy: 0.9979 - attrition_output_loss: 0.0167 - department_output_accuracy: 0.9988 - department_output_loss: 0.0476 - loss: 0.0642 - val_attrition_output_accuracy: 0.8152 - val_attrition_output_loss: 1.0571 - val_department_output_accuracy: 0.5000 - val_department_output_loss: 2.3949 - val_loss: 3.4768\n",
            "Epoch 79/100\n",
            "\u001b[1m35/35\u001b[0m \u001b[32m━━━━━━━━━━━━━━━━━━━━\u001b[0m\u001b[37m\u001b[0m \u001b[1m0s\u001b[0m 6ms/step - attrition_output_accuracy: 0.9974 - attrition_output_loss: 0.0139 - department_output_accuracy: 0.9955 - department_output_loss: 0.0462 - loss: 0.0602 - val_attrition_output_accuracy: 0.8152 - val_attrition_output_loss: 1.0991 - val_department_output_accuracy: 0.5272 - val_department_output_loss: 2.3994 - val_loss: 3.5252\n",
            "Epoch 80/100\n",
            "\u001b[1m35/35\u001b[0m \u001b[32m━━━━━━━━━━━━━━━━━━━━\u001b[0m\u001b[37m\u001b[0m \u001b[1m0s\u001b[0m 9ms/step - attrition_output_accuracy: 0.9966 - attrition_output_loss: 0.0166 - department_output_accuracy: 0.9986 - department_output_loss: 0.0437 - loss: 0.0603 - val_attrition_output_accuracy: 0.8370 - val_attrition_output_loss: 1.0653 - val_department_output_accuracy: 0.5000 - val_department_output_loss: 2.4397 - val_loss: 3.5323\n",
            "Epoch 81/100\n",
            "\u001b[1m35/35\u001b[0m \u001b[32m━━━━━━━━━━━━━━━━━━━━\u001b[0m\u001b[37m\u001b[0m \u001b[1m0s\u001b[0m 11ms/step - attrition_output_accuracy: 0.9939 - attrition_output_loss: 0.0191 - department_output_accuracy: 0.9967 - department_output_loss: 0.0508 - loss: 0.0700 - val_attrition_output_accuracy: 0.8071 - val_attrition_output_loss: 1.1284 - val_department_output_accuracy: 0.5326 - val_department_output_loss: 2.4766 - val_loss: 3.6292\n",
            "Epoch 82/100\n",
            "\u001b[1m35/35\u001b[0m \u001b[32m━━━━━━━━━━━━━━━━━━━━\u001b[0m\u001b[37m\u001b[0m \u001b[1m1s\u001b[0m 12ms/step - attrition_output_accuracy: 0.9968 - attrition_output_loss: 0.0158 - department_output_accuracy: 0.9975 - department_output_loss: 0.0371 - loss: 0.0529 - val_attrition_output_accuracy: 0.8207 - val_attrition_output_loss: 1.1045 - val_department_output_accuracy: 0.5217 - val_department_output_loss: 2.4877 - val_loss: 3.6184\n",
            "Epoch 83/100\n",
            "\u001b[1m35/35\u001b[0m \u001b[32m━━━━━━━━━━━━━━━━━━━━\u001b[0m\u001b[37m\u001b[0m \u001b[1m1s\u001b[0m 10ms/step - attrition_output_accuracy: 0.9987 - attrition_output_loss: 0.0115 - department_output_accuracy: 0.9994 - department_output_loss: 0.0358 - loss: 0.0472 - val_attrition_output_accuracy: 0.8207 - val_attrition_output_loss: 1.0804 - val_department_output_accuracy: 0.5272 - val_department_output_loss: 2.5065 - val_loss: 3.6120\n",
            "Epoch 84/100\n",
            "\u001b[1m35/35\u001b[0m \u001b[32m━━━━━━━━━━━━━━━━━━━━\u001b[0m\u001b[37m\u001b[0m \u001b[1m0s\u001b[0m 6ms/step - attrition_output_accuracy: 0.9988 - attrition_output_loss: 0.0107 - department_output_accuracy: 0.9978 - department_output_loss: 0.0362 - loss: 0.0469 - val_attrition_output_accuracy: 0.8370 - val_attrition_output_loss: 1.1164 - val_department_output_accuracy: 0.5299 - val_department_output_loss: 2.5405 - val_loss: 3.6814\n",
            "Epoch 85/100\n",
            "\u001b[1m35/35\u001b[0m \u001b[32m━━━━━━━━━━━━━━━━━━━━\u001b[0m\u001b[37m\u001b[0m \u001b[1m0s\u001b[0m 5ms/step - attrition_output_accuracy: 0.9990 - attrition_output_loss: 0.0107 - department_output_accuracy: 0.9985 - department_output_loss: 0.0327 - loss: 0.0434 - val_attrition_output_accuracy: 0.8152 - val_attrition_output_loss: 1.1264 - val_department_output_accuracy: 0.5299 - val_department_output_loss: 2.5990 - val_loss: 3.7473\n",
            "Epoch 86/100\n",
            "\u001b[1m35/35\u001b[0m \u001b[32m━━━━━━━━━━━━━━━━━━━━\u001b[0m\u001b[37m\u001b[0m \u001b[1m0s\u001b[0m 6ms/step - attrition_output_accuracy: 0.9999 - attrition_output_loss: 0.0100 - department_output_accuracy: 0.9982 - department_output_loss: 0.0321 - loss: 0.0420 - val_attrition_output_accuracy: 0.8342 - val_attrition_output_loss: 1.1275 - val_department_output_accuracy: 0.5245 - val_department_output_loss: 2.5482 - val_loss: 3.7086\n",
            "Epoch 87/100\n",
            "\u001b[1m35/35\u001b[0m \u001b[32m━━━━━━━━━━━━━━━━━━━━\u001b[0m\u001b[37m\u001b[0m \u001b[1m0s\u001b[0m 6ms/step - attrition_output_accuracy: 0.9998 - attrition_output_loss: 0.0120 - department_output_accuracy: 0.9955 - department_output_loss: 0.0354 - loss: 0.0474 - val_attrition_output_accuracy: 0.8125 - val_attrition_output_loss: 1.1676 - val_department_output_accuracy: 0.5462 - val_department_output_loss: 2.6401 - val_loss: 3.8333\n",
            "Epoch 88/100\n",
            "\u001b[1m35/35\u001b[0m \u001b[32m━━━━━━━━━━━━━━━━━━━━\u001b[0m\u001b[37m\u001b[0m \u001b[1m0s\u001b[0m 5ms/step - attrition_output_accuracy: 0.9999 - attrition_output_loss: 0.0118 - department_output_accuracy: 0.9978 - department_output_loss: 0.0339 - loss: 0.0458 - val_attrition_output_accuracy: 0.8179 - val_attrition_output_loss: 1.1512 - val_department_output_accuracy: 0.5299 - val_department_output_loss: 2.6647 - val_loss: 3.8429\n",
            "Epoch 89/100\n",
            "\u001b[1m35/35\u001b[0m \u001b[32m━━━━━━━━━━━━━━━━━━━━\u001b[0m\u001b[37m\u001b[0m \u001b[1m0s\u001b[0m 6ms/step - attrition_output_accuracy: 0.9993 - attrition_output_loss: 0.0102 - department_output_accuracy: 0.9981 - department_output_loss: 0.0290 - loss: 0.0392 - val_attrition_output_accuracy: 0.8152 - val_attrition_output_loss: 1.2103 - val_department_output_accuracy: 0.5217 - val_department_output_loss: 2.7170 - val_loss: 3.9555\n",
            "Epoch 90/100\n",
            "\u001b[1m35/35\u001b[0m \u001b[32m━━━━━━━━━━━━━━━━━━━━\u001b[0m\u001b[37m\u001b[0m \u001b[1m0s\u001b[0m 5ms/step - attrition_output_accuracy: 0.9994 - attrition_output_loss: 0.0108 - department_output_accuracy: 0.9995 - department_output_loss: 0.0247 - loss: 0.0355 - val_attrition_output_accuracy: 0.8179 - val_attrition_output_loss: 1.1957 - val_department_output_accuracy: 0.5245 - val_department_output_loss: 2.7277 - val_loss: 3.9457\n",
            "Epoch 91/100\n",
            "\u001b[1m35/35\u001b[0m \u001b[32m━━━━━━━━━━━━━━━━━━━━\u001b[0m\u001b[37m\u001b[0m \u001b[1m0s\u001b[0m 6ms/step - attrition_output_accuracy: 0.9993 - attrition_output_loss: 0.0096 - department_output_accuracy: 0.9977 - department_output_loss: 0.0295 - loss: 0.0391 - val_attrition_output_accuracy: 0.8098 - val_attrition_output_loss: 1.2280 - val_department_output_accuracy: 0.5272 - val_department_output_loss: 2.7586 - val_loss: 4.0071\n",
            "Epoch 92/100\n",
            "\u001b[1m35/35\u001b[0m \u001b[32m━━━━━━━━━━━━━━━━━━━━\u001b[0m\u001b[37m\u001b[0m \u001b[1m0s\u001b[0m 5ms/step - attrition_output_accuracy: 0.9971 - attrition_output_loss: 0.0120 - department_output_accuracy: 0.9996 - department_output_loss: 0.0274 - loss: 0.0394 - val_attrition_output_accuracy: 0.8234 - val_attrition_output_loss: 1.2119 - val_department_output_accuracy: 0.5163 - val_department_output_loss: 2.8185 - val_loss: 4.0595\n",
            "Epoch 93/100\n",
            "\u001b[1m35/35\u001b[0m \u001b[32m━━━━━━━━━━━━━━━━━━━━\u001b[0m\u001b[37m\u001b[0m \u001b[1m0s\u001b[0m 5ms/step - attrition_output_accuracy: 0.9980 - attrition_output_loss: 0.0090 - department_output_accuracy: 0.9992 - department_output_loss: 0.0233 - loss: 0.0323 - val_attrition_output_accuracy: 0.8071 - val_attrition_output_loss: 1.2405 - val_department_output_accuracy: 0.5326 - val_department_output_loss: 2.7867 - val_loss: 4.0599\n",
            "Epoch 94/100\n",
            "\u001b[1m35/35\u001b[0m \u001b[32m━━━━━━━━━━━━━━━━━━━━\u001b[0m\u001b[37m\u001b[0m \u001b[1m0s\u001b[0m 6ms/step - attrition_output_accuracy: 0.9995 - attrition_output_loss: 0.0076 - department_output_accuracy: 0.9990 - department_output_loss: 0.0250 - loss: 0.0326 - val_attrition_output_accuracy: 0.8261 - val_attrition_output_loss: 1.2191 - val_department_output_accuracy: 0.5245 - val_department_output_loss: 2.8747 - val_loss: 4.1224\n",
            "Epoch 95/100\n",
            "\u001b[1m35/35\u001b[0m \u001b[32m━━━━━━━━━━━━━━━━━━━━\u001b[0m\u001b[37m\u001b[0m \u001b[1m0s\u001b[0m 5ms/step - attrition_output_accuracy: 0.9993 - attrition_output_loss: 0.0066 - department_output_accuracy: 0.9996 - department_output_loss: 0.0223 - loss: 0.0289 - val_attrition_output_accuracy: 0.7962 - val_attrition_output_loss: 1.2950 - val_department_output_accuracy: 0.5245 - val_department_output_loss: 2.8680 - val_loss: 4.1879\n",
            "Epoch 96/100\n",
            "\u001b[1m35/35\u001b[0m \u001b[32m━━━━━━━━━━━━━━━━━━━━\u001b[0m\u001b[37m\u001b[0m \u001b[1m0s\u001b[0m 6ms/step - attrition_output_accuracy: 0.9960 - attrition_output_loss: 0.0143 - department_output_accuracy: 0.9995 - department_output_loss: 0.0198 - loss: 0.0341 - val_attrition_output_accuracy: 0.8179 - val_attrition_output_loss: 1.2655 - val_department_output_accuracy: 0.5163 - val_department_output_loss: 2.9109 - val_loss: 4.1993\n",
            "Epoch 97/100\n",
            "\u001b[1m35/35\u001b[0m \u001b[32m━━━━━━━━━━━━━━━━━━━━\u001b[0m\u001b[37m\u001b[0m \u001b[1m0s\u001b[0m 5ms/step - attrition_output_accuracy: 0.9996 - attrition_output_loss: 0.0077 - department_output_accuracy: 0.9998 - department_output_loss: 0.0172 - loss: 0.0249 - val_attrition_output_accuracy: 0.8370 - val_attrition_output_loss: 1.2275 - val_department_output_accuracy: 0.5163 - val_department_output_loss: 2.9344 - val_loss: 4.1866\n",
            "Epoch 98/100\n",
            "\u001b[1m35/35\u001b[0m \u001b[32m━━━━━━━━━━━━━━━━━━━━\u001b[0m\u001b[37m\u001b[0m \u001b[1m0s\u001b[0m 6ms/step - attrition_output_accuracy: 0.9980 - attrition_output_loss: 0.0092 - department_output_accuracy: 0.9971 - department_output_loss: 0.0221 - loss: 0.0313 - val_attrition_output_accuracy: 0.8098 - val_attrition_output_loss: 1.2500 - val_department_output_accuracy: 0.5136 - val_department_output_loss: 2.9494 - val_loss: 4.2305\n",
            "Epoch 99/100\n",
            "\u001b[1m35/35\u001b[0m \u001b[32m━━━━━━━━━━━━━━━━━━━━\u001b[0m\u001b[37m\u001b[0m \u001b[1m0s\u001b[0m 6ms/step - attrition_output_accuracy: 0.9993 - attrition_output_loss: 0.0068 - department_output_accuracy: 0.9969 - department_output_loss: 0.0228 - loss: 0.0295 - val_attrition_output_accuracy: 0.8234 - val_attrition_output_loss: 1.2575 - val_department_output_accuracy: 0.5190 - val_department_output_loss: 2.9450 - val_loss: 4.2315\n",
            "Epoch 100/100\n",
            "\u001b[1m35/35\u001b[0m \u001b[32m━━━━━━━━━━━━━━━━━━━━\u001b[0m\u001b[37m\u001b[0m \u001b[1m0s\u001b[0m 5ms/step - attrition_output_accuracy: 0.9985 - attrition_output_loss: 0.0094 - department_output_accuracy: 0.9996 - department_output_loss: 0.0213 - loss: 0.0306 - val_attrition_output_accuracy: 0.8315 - val_attrition_output_loss: 1.2434 - val_department_output_accuracy: 0.5217 - val_department_output_loss: 2.9880 - val_loss: 4.2613\n"
          ]
        }
      ],
      "source": [
        "# Train the model\n",
        "history = model.fit(\n",
        "    X_train_scaled,\n",
        "    {\"department_output\": y_train_encoded, \"attrition_output\": y_train_att_encoded},\n",
        "    epochs=100,\n",
        "    batch_size=32,\n",
        "    validation_data=(X_test_scaled, {\"department_output\": y_test_encoded, \"attrition_output\": y_test_att_encoded})\n",
        ")"
      ]
    },
    {
      "cell_type": "code",
      "execution_count": 139,
      "metadata": {
        "colab": {
          "base_uri": "https://localhost:8080/"
        },
        "id": "VsMoaQlgGc3U",
        "outputId": "9a97265e-6853-41a4-8fa1-48c500570e74"
      },
      "outputs": [
        {
          "output_type": "stream",
          "name": "stdout",
          "text": [
            "\u001b[1m12/12\u001b[0m \u001b[32m━━━━━━━━━━━━━━━━━━━━\u001b[0m\u001b[37m\u001b[0m \u001b[1m0s\u001b[0m 4ms/step - attrition_output_accuracy: 0.8327 - attrition_output_loss: 1.1502 - department_output_accuracy: 0.5034 - department_output_loss: 2.9899 - loss: 4.1447 \n"
          ]
        }
      ],
      "source": [
        "# Evaluate the model with the testing data\n",
        "evaluation_results = model.evaluate(\n",
        "    X_test_scaled,\n",
        "    {\"department_output\": y_test_encoded, \"attrition_output\": y_test_att_encoded}\n",
        ")\n"
      ]
    },
    {
      "cell_type": "markdown",
      "source": [
        "![image.png](data:image/png;base64,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)"
      ],
      "metadata": {
        "id": "n8EFoS4HTd_E"
      }
    },
    {
      "cell_type": "code",
      "execution_count": 144,
      "metadata": {
        "colab": {
          "base_uri": "https://localhost:8080/"
        },
        "id": "ZlCtlHi0Vt54",
        "outputId": "c4212a05-3205-44aa-ce9b-e4bbaea340fc"
      },
      "outputs": [
        {
          "output_type": "stream",
          "name": "stdout",
          "text": [
            "Attrition predictions accuracy: 0.52173912525177\n",
            "Department predictions accuracy: 0.83152174949646\n"
          ]
        }
      ],
      "source": [
        "# Print the accuracy for both department and attrition\n",
        "department_accuracy = evaluation_results[3]\n",
        "att_accuracy = evaluation_results[4]\n",
        "\n",
        "print(f\"Attrition predictions accuracy: {att_accuracy}\")\n",
        "print(f\"Department predictions accuracy: {department_accuracy}\")"
      ]
    },
    {
      "cell_type": "markdown",
      "source": [
        "![image.png](data:image/png;base64,iVBORw0KGgoAAAANSUhEUgAAAZ0AAAAtCAYAAAB1YrZjAAAAAXNSR0IArs4c6QAAAARnQU1BAACxjwv8YQUAAAAJcEhZcwAADsMAAA7DAcdvqGQAABK6SURBVHhe7Z1PaBvH28e/fm9FRU4vKxrsRBgbkhiJEopcGdP4oIJtUAkY7EKwG1qrqQnywTr4kqrU+KImvljFItgEY/VQBwQGleigPTgQrNr0UgnbhxgjKtFEujQW3rPei2Z+s6PV/pFtNYnnA4Zod2d25pk/zzPPTuZpq1arVQgEAoFA0AL+j78gEAgEAsF5IZSOQCAQCFqGUDoCgUAgaBlC6QgEAoGgZQilIxAIBIKWIZSOQCAQCFrGO6d0crkcrl+/jlAoxN8yRSgUwvXr15HL5fhb7wWhUAixWEx17bQy0+M88xYIBO8fTSkdMtGMj49DURTVPUVRMD4+DlmWVdcJuVwOw8PDKJfL/K1Tc555X1RkWdZsZ8H7RywWg9PphNPpRH9/v+lxJMsyTcf+sYYIm7fT6VQZRuVyGf39/Q3fzd/njSpCKBSC0+lUzT182RoZR43mNCOZkHeSP/bdRuUm79RKCy5vvlxGecPAILRSL/7dp6baBMvLy9WHDx9Wp6amqtlsVnXv5OSkOjY2Vk2n06rrhGw2Wx0aGqqWSiX+1qk5z7zfFWZnZ6vLy8v85aZJp9PVsbGx6snJCX9L8B6RTqerXq+Xjp3Z2dmm253MAaQf8n0om81WP/vss2o2m9WcL2ZnZ6uzs7OaeWWz2eq1a9fq5pd0Ol0dGhqqDg0N1d0j8Hnx1/k68zJZXl5W3V9eXqbl5J/n31Uqlaper5eWjf/NyoTkxcuA/90o7ypT1qmpKVUZqybrxf5m2+MssLzSURQFW1tb+OSTT3Dz5k28ePGC3guFQujt7cXOzg6mpqZUWphoZr/fj4ODA3g8HjidTpWri7iGWC3Man9W+2pZSnp5s1aFlmbnLQdWu8uyTMum9X49FEVBIBCALMs0f/b97MqQ1I93/+lZJSQ9uZ9IJOg96MiMwKcn+RN5TU1NYWdnB729vXXvN8qbt27ZtiTtzObB3m9ULrOw7+blCQ0LmC9/o7LzK79yuYzh4WGaP7n/xx9/0P7GWpp8P+Ot0Eb1Jum0LGmta3y+eiiKgpWVFUxMTECSJADA3bt38ffff+Po6Ih/3JCjoyNUKhWMjo4CAF6+fImOjg7YbDYAgMPhwKVLl4DauyuVChwOB03f3d1N/53JZFAoFGheLpcLIyMjSKVS9JlyuYxwOIzvv/8edrudXuex2Wzo6OjgL2N9fR0A8Pnnn9NrWjIZHR1FpVKhMjk8PFSV1eFwoL29HdAotyRJmJiYoOVOJBLo7OyE1+sFavXq7++n86nP58Pi4iJQK/fg4CCKxSIURTHMO5fL4fXr19jY2KiTh1G9yuUy4vE4AoEAba+7d+9if3/f0vjTw7LSIR3K7Xajp6cHW1tbdAAuLi5ib28PfX19WF1dRT6fRz6fx/T0NCRJwvb2NpLJJK5fv47d3V3k83kcHBzA5XLR/CORCA4PD5HP5zE3N4eVlRVV/vl8ngqbYCZvl8uFg4MDJJNJ2jEIiqIgGAxiYmIC+Xwee3t7AIBwOEyfSSQStFyrq6uIx+OmG6FSqSAYDOLx48fI5/Pwer2IRCKqZ6amptDd3Y18Po+RkRGsra0BtUksHo/TOk1MTCAYDFKZhMNhdHR0UFnzsmkkM9Tq/c0336jSb29vQ5IkKq/V1VX09fVhb29Pdd8ob77cq6urCAaDqsk/EonQOvNtvb6+rlkuM+RyOdjtdpp2ZmYGCwsLNG9ZlhEMBpFMJukz09PTNH0sFlOVPZ/Pw+fzMW/QZ2dnB7Ozs3j+/DmSySS2t7dpvePxODY3N5HP57G7u4tMJkOVhl57SJIEr9ermmyz2SwAwO1202vNQCb+gYEBoDaJ37t3D69evUKpVOIfN2RtbQ1ffvklba+BgQE8e/aMKvZIJAK73Y6uri5IkoQbN27g3r171NhZWlrC8PAwUFNYXq+X5hWLxZBIJOgETPLzer2GbVQul7G/v0/riVpfWV9fx4MHD+gky9LT00P/bbPZYLfbqUyGh4cRiUQgyzIURcHCwgJu3LhBy9rZ2anKs6enR1VuVhGjpmwPDw/pbz308na5XPjpp59Uz/Po1au9vV1lBJB/N9MXtLCsdF68eEEF63a7VZr/LOjr68P8/DxQ66yVSoU20nnBWw42mw0PHjxQaXe2XG63G+3t7ZYaIRqNUgU4PDys6nyoWRtk4mPvp1IpzM/Pa1oluVwO+/v7mJubo/lYgdS72fSNUDSsKZ/Ph5GREdXKmK2zVltnMhnTip3F5XLhzp079DebNynbzMyMytghEEuPlblVPvjgAzx+/BiSJKGrqwtXrlyhfSUUCtF8iSJ5+fIlYKI9eIszlUqpZAzGACNWshWU2irL4/Fgfn4eo6OjtGxmIX2SNURcLhf+/PNPbG1twel0AgA2NjbopLm4uIj5+Xl4PB6MjY3h6dOndQqErEy3trbw22+/0fY0MwbIqtXj8eDGjRuqdl9bW8Pk5GRdXyCrC94Q2tnZoc/4fD7s7u4iHA6jt7cXg4ODVO5utxuFQgGZTAZgVmOEgYEBlTFClK0W5B5ZfRjlrYdRvYgRQIxe1JR6Pp+nv0+LJaWj1FxrxAohBWQnktMyODhIO6PL5UIqlWp68FuBtxzOm0KhoJpgiUxR68wbGxsAgGKxqHJVejyeM+sAL1++PNd6s9aUVaanp+H1eqmrlHd/6UEmTyIzv9+P4+Njeq9QKDQsW6lUQrVaVVl6VnG73ejq6gJqg3xjY4NOorxbj3WHGrVHV1cX7HY7stksyuUyisWi5iqzGY6Pj/HVV18hEAggX1uNF4vFhnJqxNramsraR23S/PTTTxEIBLC3t4disVjnpl1ZWcHe3h6i0Sj8fr+qvROJBL2/sbGBk5MT2O12tLW1YWFhQaXItZienqYrx+7ubuoelWUZxWIRk5OTfBIAoNeJa1lRFHzxxRe0b8iyjFu3buHx48fY3d1FPB6neUuShPn5eTp2b9++jfv379PVjcvlwuTkJPx+P5xOJxYWFvDtt9+q3HVgVp0zMzO0DxnlbYRRvebm5pDJZGgfvXnzJtxu96nGBIslpXN0dIRsNquaBBOJhMrF9q7CK4FSqUQnqvNAb3LhYV2VeQ2XZLNYnVCswlrJiqKgWCyq7htB3HdkQJtVPMTqIy5B1qVqs9nQ2dnJpfgf7PeGsyaXyyEYDKrak1UaRu1BrNRUKoVsNouOjg7dydYsRCZzc3N0YlM0vrUYkcvlsL29jbt376qur62tYWRkBD6fDzabDU+ePEFnZycSiQRNQ9xbPp9P5b7u6enB5cuXEY1G6Xgh34hev36tmo/Y78mNdlyxq95UKqX6Xsl+v5RlmRoMpK0mJyepTBRuxSxJEjY3N1UrEJ/Pp3KTVioVlVJhleHGxgZevXql6gPlchm3b9+G1+tVuX9hIm899OoFZrVM7rvdbtjtdtPzlRGWlE6pVILb7aaDmQxo9oOjrfaxjvU9szgcDhwfH1N/9FnSbN7EJ06sTtKheNfFWUCWwuyKrhFkkgmHw5puJr6+xN9tFrJMJx9StXA4HJY/KJNys9+9eBemFYwUhRbE6lNqvnZiQBjJlKze2W9APMRAUWrfAvMWVp6XLl1SWcpse5lpj9HRUezv7+PRo0d1kzua3EhAZLK0tETdPYlEgn53IeQabCsmrK2tob+/X9MgYt3JxHglE+ybN29UrupUKkWNMjI2yTdQ4v4cHh6m3x3JXMR+T2bddyzsSowYNeSP/X7Ju/eIAggEAqo5gf0Gk81m8e+//2oq6lgshq2trYarKtJe5L2swjFylRrlrUejehFyuRy+++47zMzMaMqzKfjtbHpobcflt+9VmS18V69erV69erUuTTqdpveuXbtGtwlq5U/g87Sa9/Lycl1adtsgnz+/FZLdQlgqlapDQ0N128W1IPJpVGatLaM8fNn5bZ1smZeXl+u2UvL11msrViYE9v3kPp9OK282HdsW5B4rY3a7u5bMrGzZJNtqSdqHDx/WbaXnZcr3o9nZWdV9fksvuf7rr7+q+gLfV3jYtGRLq9X24Lf2spD0VuRFYGWilT+Rq9a9dDpd18YErfZk5cn2Ya138zJpNFa0xhLfznpy4duu0VxC4MvFPsPXmX8vn5bvf3y52bpbzZt/zqheWuP9LGmriiBu54pS25EUCATqrCeBoBlCoRC6u7vrXC4CwbuAJfeaQCD4b5FlGZlMpik3pUDwNiCUjkDwDkB2vZH/76XlfxcI3gWEe00gEAgELUOsdAQCgUDQMoTSEQgEAkHLEEpHIBAIBC1DKB2BQCAQtAyhdC4QSoMAe+RARP76WXCeeQsEgncPS0qHP6zQafEgxvMm9x9GDpUvYITNRkpM8P5B2pqMeyvH7JCjedh546KNFcH/sKR0AODy5cs0zkgymcTS0tJbpXgE1iEHD57HiQnnmbegdbBxm0gcICvjvrOzUxWfqNHZaIL3H8tKh8XlciEajaoOduStGrZjygYROHlrirWGWKuaj7BJ3tkocmi5XMb4+Dh+/PFHOJ1OPHr0COPj46qIkvy7WUtOr9zkEES9CJt6kLLJskwjTbL1JiuoRpEo9coNrj3IKbxa97Sia/LPsGUL6USJ5dM1ypu0I/+MYhBtFTrlMgMvM620bFs7LUQ1jdWioRLY1bdeHybw3gR+Fdmo3kRWrIy0rsVisbp3GsGfHi3VIlW+D6fLC1rPqZQOaqcQV6tVlEolKFwETnIkPTtw2AicyWQS6+vrdABsbm7iwYMH9MRYMKFkCVoRNslR3HqRQwuFAk5OTrC6uopffvkFgUBAFVSMteRIzA9WITaKHGomwqYRhUIB4XAYz58/16y3XiRKvXLz7UFO4SUQue3u7sJZC67FUq6dQEvSsxaqXpRYM3nHYjEUi0Uqr5mZGRo9Ely01b29PXoUPiESiWiWywxG/SymEzlU0YnuaRatPoyavP/66y+a7+rqquo0bL32IKcxsyesp1IpVdTNZimVSrhy5Qo9cVqWZUQikbpwIAKBGc5E6ZD4I0dHR7Db7fSIbWIRsWEO2AicfFTFO3fuUCVBjlvnw7c2irBpRHt7O7XU+vr6aGxy1AZzsVik0QdtNhsCgYDKkjtt5FA92tvb6dEmWvVuFInSqNwkrkczR56DiePebPpGlDXisE9OTqKzs1M1aZJoq1oyAdC0pa3Xz0jZGkUONYruaYZGfViSJNUqie9neu3Bj7VyLTQzH/5genq66XhMZFUfDofx+++/WxoDhUKhzgMhuJicWumUSiW8efOG/judTlMXk9PppHEw9CDBvkin1kurFWHTrIXbiFKphGw2SweFsxbQ6b+EVaaNIlGed7kPDw9NRyO0Ch+H3SrEACB9jXdD6aHXz4wihxpF9zSDXh9mXY58lFij9hgYGKDhrLPZbF1o5tPArra3t7dBTs9qJCcWsuolq7NoNIqxsTGheC4op1Y6L168QFtbG+18rIuJ/BkFIerp6UGZCctK0p3GmrSK0+lUuVNY18V/gd7kwnKe5TYbibAZjo+PVVayUgsjbRaifPM1N20wGDSleIz6mVHkUKPonqchFoshk8nQ9uRdk0btwYazTqVSKuV2GhwOBz7++GPVQaOlUqnpaJJut1tVL8HF4lRKh/h2iSvCTORDlvX1dRQKBeqPBjOoc7kclpaWmKeN4SNpmoUMVq2VlVmaibCpBam3mQnDqNx8mcLhsGojgREDAwN49uxZw8ncZhAlthGSJMHr9WJlZYWu5ojriHV7msXhcOCjjz7iL+vSqJ9JBpFDzfRxskolCs5K2HN2FRWJRJBnVjpm2iMQCOCHH35ApVLRlGUzGwmIS5fIRKlF1uWj35JNEPxmFp5IJFIXlVRwcbCsdP755x/qzgkGg0gmk/Qjq1SLEx6Px6mLgHd9sDu84vE4Njc3IUkS9UmTnVD37t3D2NgY82ZjJEnC/Pw8zcPs4LLV4rYXi0VVua1sCXW5XJicnITf74dTY7eVHsfHxzSd3+9HNBo1tcXYqNx8mbq7u1VxWMgk4fF4cHBwAL/fr5KZy+XC06dPEQwGad78Tq+5uTlkMpm6dxvlvbi4iI6ODlVfiEajpiznMreDy+PxYGJiwpTMzPQzvmxOpg9r9XG2rcn3lt7eXty6dQv3799He3u7Kv9GjI6OolAo0Pd++OGHcDIrAjPt4Xa70dbWhps3b5qSpRlIP0OtXr29vRgcHDQdRI7fkQfgzFbjgnePloY2kGUZKysrePLkiehwNcrlMr7++mv8/PPPZ+Z/F1xcRH8SvO1YXukIBIK3l0gkcqYbCASCs0YoHYHgPYDseisWi3Rnn0DwNtJS95pAIBAILjZipSMQCASCliGUjkAgEAhahlA6AoFAIGgZQukIBAKBoGUIpSMQCASCliGUjkAgEAhaxv8D+t6byXaDWg4AAAAASUVORK5CYII=)"
      ],
      "metadata": {
        "id": "FKr_K8OzUE0o"
      }
    },
    {
      "cell_type": "markdown",
      "metadata": {
        "id": "eGSyfsZfWOQM"
      },
      "source": [
        "# Summary\n",
        "\n",
        "In the provided space below, briefly answer the following questions.\n",
        "\n",
        "1. Is accuracy the best metric to use on this data? Why or why not?\n",
        "\n",
        "2. What activation functions did you choose for your output layers, and why?\n",
        "\n",
        "3. Can you name a few ways that this model might be improved?"
      ]
    },
    {
      "cell_type": "markdown",
      "metadata": {
        "id": "pi9SLpFnWvbF"
      },
      "source": [
        "YOUR ANSWERS HERE\n",
        "\n",
        "1.\n",
        "2.\n",
        "3."
      ]
    },
    {
      "cell_type": "code",
      "execution_count": 140,
      "metadata": {
        "id": "ZuQWjGgGXZ3C"
      },
      "outputs": [],
      "source": []
    }
  ],
  "metadata": {
    "colab": {
      "provenance": []
    },
    "kernelspec": {
      "display_name": "Python 3",
      "language": "python",
      "name": "python3"
    },
    "language_info": {
      "codemirror_mode": {
        "name": "ipython",
        "version": 3
      },
      "file_extension": ".py",
      "mimetype": "text/x-python",
      "name": "python",
      "nbconvert_exporter": "python",
      "pygments_lexer": "ipython3",
      "version": "3.-1.-1"
    },
    "vscode": {
      "interpreter": {
        "hash": "31f2aee4e71d21fbe5cf8b01ff0e069b9275f58929596ceb00d14d90e3e16cd6"
      }
    }
  },
  "nbformat": 4,
  "nbformat_minor": 0
}